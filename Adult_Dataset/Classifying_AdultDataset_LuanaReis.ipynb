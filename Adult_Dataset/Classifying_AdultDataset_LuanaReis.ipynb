{
 "cells": [
  {
   "cell_type": "markdown",
   "id": "af8ecfd8-e341-4001-8858-de16ab238e26",
   "metadata": {
    "tags": []
   },
   "source": [
    "## Classifying the Adult Dataset\n",
    "\n",
    "\n",
    "**Author: Luana Passos Reis**\n",
    "\n",
    "\n",
    "*Course PMR3508 - Machine Learning and Pattern Recognition at University of São Paulo*"
   ]
  },
  {
   "cell_type": "markdown",
   "id": "47d05d39-501d-4bca-a9ad-66dadd936bcd",
   "metadata": {},
   "source": [
    "In this notebook, I have produced 5 different Classifiers for the variable Target (that is, whether the income is <= 50K or > 50K) for the Adult Dataset.\n",
    "\n",
    "The classifiers chosen were:\n",
    "* k-Nearest Neighbors\n",
    "* Support Vector Machine\n",
    "* Logistic Regression\n",
    "* Random Forest\n",
    "* Boosting\n",
    "\n",
    "The Adult dataset that can be found in here -> https://archive.ics.uci.edu/ml/index.php"
   ]
  },
  {
   "cell_type": "markdown",
   "id": "2855e0f6-05ad-4ec1-b907-8042a263fc15",
   "metadata": {},
   "source": [
    "# Dataset description \n",
    "\n",
    "We have a few **continuous variables**, such as:\n",
    "\n",
    "- age,\n",
    "- fnlwgt,\n",
    "- education-num,\n",
    "- capital-gain,\n",
    "- capital-loss,\n",
    "- hours-per-week,\n",
    "\n",
    "and a few **discrete** ones:\n",
    "\n",
    "- workclass: Private, Self-emp-not-inc, Self-emp-inc, Federal-gov, Local-gov, State-gov, Without-pay, Never-worked.\n",
    "- education: Bachelors, Some-college, 11th, HS-grad, Prof-school, Assoc-acdm, Assoc-voc, 9th, 7th-8th, 12th, Masters, 1st-4th, 10th, Doctorate, 5th-6th, Preschool.\n",
    "- marital-status: Married-civ-spouse, Divorced, Never-married, Separated, Widowed, Married-spouse-absent, Married-AF-spouse.\n",
    "- occupation: Tech-support, Craft-repair, Other-service, Sales, Exec-managerial, Prof-specialty, Handlers-cleaners, Machine-op-inspct, Adm-clerical, Farming-fishing, Transport-moving, Priv-house-serv, Protective-serv, Armed-Forces.\n",
    "- relationship: Wife, Own-child, Husband, Not-in-family, Other-relative, Unmarried.\n",
    "- race: White, Asian-Pac-Islander, Amer-Indian-Eskimo, Other, Black.\n",
    "- sex: Female, Male.\n",
    "- native-country: United-States, Cambodia, England, Puerto-Rico, Canada, Germany, Outlying-US(Guam-USVI-etc), India, Japan, Greece, South, China, Cuba, Iran, Honduras, Philippines, Italy, Poland, Jamaica, Vietnam, Mexico, Portugal, Ireland, France, Dominican-Republic, Laos, Ecuador, Taiwan, Haiti, Columbia, Hungary, Guatemala, Nicaragua, Scotland, Thailand, Yugoslavia, El-Salvador, Trinadad&Tobago, Peru, Hong, Holand-Netherlands.\n"
   ]
  },
  {
   "cell_type": "markdown",
   "id": "c70a4d82",
   "metadata": {},
   "source": [
    "# Import libraries"
   ]
  },
  {
   "cell_type": "markdown",
   "id": "acf20a0f-ef95-4ce2-a0ca-0fbb7bc3eacd",
   "metadata": {},
   "source": [
    "First, a few common imports for data analysis.\n",
    "\n",
    "Some other imports that are important fot a determined specific analysis are going to be imported throughout the notebook."
   ]
  },
  {
   "cell_type": "code",
   "execution_count": 1,
   "id": "d07ed940-b4f1-461d-8bc3-875020845b62",
   "metadata": {},
   "outputs": [],
   "source": [
    "import numpy as np\n",
    "import pandas as pd\n",
    "import seaborn as sns\n",
    "import matplotlib.pyplot as plt\n",
    "import sklearn"
   ]
  },
  {
   "cell_type": "markdown",
   "id": "c43994ea",
   "metadata": {},
   "source": [
    "# Import dataset"
   ]
  },
  {
   "cell_type": "markdown",
   "id": "3b586a12-58f3-4af2-8c2d-1727eef8f025",
   "metadata": {},
   "source": [
    "Let's start by loading the datasets."
   ]
  },
  {
   "cell_type": "code",
   "execution_count": 2,
   "id": "8396efd0-5b10-45c9-aa8a-f75099e58215",
   "metadata": {},
   "outputs": [],
   "source": [
    "train_df = pd.read_csv(\"/Users/luanareis/Documents/Classf_ML/train_data.csv\")\n",
    "\n",
    "test_df = pd.read_csv(\"/Users/luanareis/Documents/Classf_ML/test_data.csv\")"
   ]
  },
  {
   "cell_type": "markdown",
   "id": "9f534e19-c56f-493f-8c8a-f5694313b419",
   "metadata": {},
   "source": [
    "# Exploratory Data Analysis\n",
    "\n",
    "Explore the data to gain insights about it."
   ]
  },
  {
   "cell_type": "code",
   "execution_count": 3,
   "id": "92d258c4-a563-4433-b378-a805cd2aa5ce",
   "metadata": {},
   "outputs": [
    {
     "data": {
      "text/plain": [
       "(32560, 16)"
      ]
     },
     "execution_count": 3,
     "metadata": {},
     "output_type": "execute_result"
    }
   ],
   "source": [
    "train_df.shape"
   ]
  },
  {
   "cell_type": "markdown",
   "id": "ca3fa3c6-37f8-4605-bfe1-ab21f76faa39",
   "metadata": {},
   "source": [
    "We can see that there are 32560 instances and 16 variables in the data set."
   ]
  },
  {
   "cell_type": "code",
   "execution_count": 4,
   "id": "06757e64-9545-48e2-9ca0-91e26d7e26e2",
   "metadata": {},
   "outputs": [
    {
     "data": {
      "text/plain": [
       "(16280, 15)"
      ]
     },
     "execution_count": 4,
     "metadata": {},
     "output_type": "execute_result"
    }
   ],
   "source": [
    "test_df.shape"
   ]
  },
  {
   "cell_type": "markdown",
   "id": "9a3584ad-adcf-485b-9ee0-f7eaf21d3d18",
   "metadata": {},
   "source": [
    "We can see that there are 16280 instances and 15 variables in the data set."
   ]
  },
  {
   "cell_type": "code",
   "execution_count": 5,
   "id": "2aa9959c-7f85-4414-9c46-f0278037f029",
   "metadata": {},
   "outputs": [
    {
     "data": {
      "text/html": [
       "<div>\n",
       "<style scoped>\n",
       "    .dataframe tbody tr th:only-of-type {\n",
       "        vertical-align: middle;\n",
       "    }\n",
       "\n",
       "    .dataframe tbody tr th {\n",
       "        vertical-align: top;\n",
       "    }\n",
       "\n",
       "    .dataframe thead th {\n",
       "        text-align: right;\n",
       "    }\n",
       "</style>\n",
       "<table border=\"1\" class=\"dataframe\">\n",
       "  <thead>\n",
       "    <tr style=\"text-align: right;\">\n",
       "      <th></th>\n",
       "      <th>Id</th>\n",
       "      <th>age</th>\n",
       "      <th>workclass</th>\n",
       "      <th>fnlwgt</th>\n",
       "      <th>education</th>\n",
       "      <th>education.num</th>\n",
       "      <th>marital.status</th>\n",
       "      <th>occupation</th>\n",
       "      <th>relationship</th>\n",
       "      <th>race</th>\n",
       "      <th>sex</th>\n",
       "      <th>capital.gain</th>\n",
       "      <th>capital.loss</th>\n",
       "      <th>hours.per.week</th>\n",
       "      <th>native.country</th>\n",
       "      <th>income</th>\n",
       "    </tr>\n",
       "  </thead>\n",
       "  <tbody>\n",
       "    <tr>\n",
       "      <th>0</th>\n",
       "      <td>16280</td>\n",
       "      <td>34</td>\n",
       "      <td>Private</td>\n",
       "      <td>204991</td>\n",
       "      <td>Some-college</td>\n",
       "      <td>10</td>\n",
       "      <td>Divorced</td>\n",
       "      <td>Exec-managerial</td>\n",
       "      <td>Own-child</td>\n",
       "      <td>White</td>\n",
       "      <td>Male</td>\n",
       "      <td>0</td>\n",
       "      <td>0</td>\n",
       "      <td>44</td>\n",
       "      <td>United-States</td>\n",
       "      <td>&lt;=50K</td>\n",
       "    </tr>\n",
       "    <tr>\n",
       "      <th>1</th>\n",
       "      <td>16281</td>\n",
       "      <td>58</td>\n",
       "      <td>Local-gov</td>\n",
       "      <td>310085</td>\n",
       "      <td>10th</td>\n",
       "      <td>6</td>\n",
       "      <td>Married-civ-spouse</td>\n",
       "      <td>Transport-moving</td>\n",
       "      <td>Husband</td>\n",
       "      <td>White</td>\n",
       "      <td>Male</td>\n",
       "      <td>0</td>\n",
       "      <td>0</td>\n",
       "      <td>40</td>\n",
       "      <td>United-States</td>\n",
       "      <td>&lt;=50K</td>\n",
       "    </tr>\n",
       "    <tr>\n",
       "      <th>2</th>\n",
       "      <td>16282</td>\n",
       "      <td>25</td>\n",
       "      <td>Private</td>\n",
       "      <td>146117</td>\n",
       "      <td>Some-college</td>\n",
       "      <td>10</td>\n",
       "      <td>Never-married</td>\n",
       "      <td>Machine-op-inspct</td>\n",
       "      <td>Not-in-family</td>\n",
       "      <td>White</td>\n",
       "      <td>Male</td>\n",
       "      <td>0</td>\n",
       "      <td>0</td>\n",
       "      <td>42</td>\n",
       "      <td>United-States</td>\n",
       "      <td>&lt;=50K</td>\n",
       "    </tr>\n",
       "    <tr>\n",
       "      <th>3</th>\n",
       "      <td>16283</td>\n",
       "      <td>24</td>\n",
       "      <td>Private</td>\n",
       "      <td>138938</td>\n",
       "      <td>Some-college</td>\n",
       "      <td>10</td>\n",
       "      <td>Divorced</td>\n",
       "      <td>Adm-clerical</td>\n",
       "      <td>Not-in-family</td>\n",
       "      <td>White</td>\n",
       "      <td>Female</td>\n",
       "      <td>0</td>\n",
       "      <td>0</td>\n",
       "      <td>40</td>\n",
       "      <td>United-States</td>\n",
       "      <td>&lt;=50K</td>\n",
       "    </tr>\n",
       "    <tr>\n",
       "      <th>4</th>\n",
       "      <td>16284</td>\n",
       "      <td>57</td>\n",
       "      <td>Self-emp-inc</td>\n",
       "      <td>258883</td>\n",
       "      <td>HS-grad</td>\n",
       "      <td>9</td>\n",
       "      <td>Married-civ-spouse</td>\n",
       "      <td>Transport-moving</td>\n",
       "      <td>Husband</td>\n",
       "      <td>White</td>\n",
       "      <td>Male</td>\n",
       "      <td>5178</td>\n",
       "      <td>0</td>\n",
       "      <td>60</td>\n",
       "      <td>Hungary</td>\n",
       "      <td>&gt;50K</td>\n",
       "    </tr>\n",
       "  </tbody>\n",
       "</table>\n",
       "</div>"
      ],
      "text/plain": [
       "      Id  age     workclass  fnlwgt     education  education.num  \\\n",
       "0  16280   34       Private  204991  Some-college             10   \n",
       "1  16281   58     Local-gov  310085          10th              6   \n",
       "2  16282   25       Private  146117  Some-college             10   \n",
       "3  16283   24       Private  138938  Some-college             10   \n",
       "4  16284   57  Self-emp-inc  258883       HS-grad              9   \n",
       "\n",
       "       marital.status         occupation   relationship   race     sex  \\\n",
       "0            Divorced    Exec-managerial      Own-child  White    Male   \n",
       "1  Married-civ-spouse   Transport-moving        Husband  White    Male   \n",
       "2       Never-married  Machine-op-inspct  Not-in-family  White    Male   \n",
       "3            Divorced       Adm-clerical  Not-in-family  White  Female   \n",
       "4  Married-civ-spouse   Transport-moving        Husband  White    Male   \n",
       "\n",
       "   capital.gain  capital.loss  hours.per.week native.country income  \n",
       "0             0             0              44  United-States  <=50K  \n",
       "1             0             0              40  United-States  <=50K  \n",
       "2             0             0              42  United-States  <=50K  \n",
       "3             0             0              40  United-States  <=50K  \n",
       "4          5178             0              60        Hungary   >50K  "
      ]
     },
     "execution_count": 5,
     "metadata": {},
     "output_type": "execute_result"
    }
   ],
   "source": [
    "## Let's preview the training dataset\n",
    "\n",
    "train_df.head()"
   ]
  },
  {
   "cell_type": "code",
   "execution_count": 6,
   "id": "566ac81f-a1b2-4303-ac6f-feeb3982fb05",
   "metadata": {},
   "outputs": [
    {
     "data": {
      "text/html": [
       "<div>\n",
       "<style scoped>\n",
       "    .dataframe tbody tr th:only-of-type {\n",
       "        vertical-align: middle;\n",
       "    }\n",
       "\n",
       "    .dataframe tbody tr th {\n",
       "        vertical-align: top;\n",
       "    }\n",
       "\n",
       "    .dataframe thead th {\n",
       "        text-align: right;\n",
       "    }\n",
       "</style>\n",
       "<table border=\"1\" class=\"dataframe\">\n",
       "  <thead>\n",
       "    <tr style=\"text-align: right;\">\n",
       "      <th></th>\n",
       "      <th>Id</th>\n",
       "      <th>age</th>\n",
       "      <th>workclass</th>\n",
       "      <th>fnlwgt</th>\n",
       "      <th>education</th>\n",
       "      <th>education.num</th>\n",
       "      <th>marital.status</th>\n",
       "      <th>occupation</th>\n",
       "      <th>relationship</th>\n",
       "      <th>race</th>\n",
       "      <th>sex</th>\n",
       "      <th>capital.gain</th>\n",
       "      <th>capital.loss</th>\n",
       "      <th>hours.per.week</th>\n",
       "      <th>native.country</th>\n",
       "    </tr>\n",
       "  </thead>\n",
       "  <tbody>\n",
       "    <tr>\n",
       "      <th>0</th>\n",
       "      <td>0</td>\n",
       "      <td>25</td>\n",
       "      <td>Private</td>\n",
       "      <td>120596</td>\n",
       "      <td>Bachelors</td>\n",
       "      <td>13</td>\n",
       "      <td>Never-married</td>\n",
       "      <td>Prof-specialty</td>\n",
       "      <td>Not-in-family</td>\n",
       "      <td>White</td>\n",
       "      <td>Male</td>\n",
       "      <td>0</td>\n",
       "      <td>0</td>\n",
       "      <td>44</td>\n",
       "      <td>United-States</td>\n",
       "    </tr>\n",
       "    <tr>\n",
       "      <th>1</th>\n",
       "      <td>1</td>\n",
       "      <td>64</td>\n",
       "      <td>State-gov</td>\n",
       "      <td>152537</td>\n",
       "      <td>Bachelors</td>\n",
       "      <td>13</td>\n",
       "      <td>Married-civ-spouse</td>\n",
       "      <td>Exec-managerial</td>\n",
       "      <td>Husband</td>\n",
       "      <td>White</td>\n",
       "      <td>Male</td>\n",
       "      <td>0</td>\n",
       "      <td>0</td>\n",
       "      <td>45</td>\n",
       "      <td>United-States</td>\n",
       "    </tr>\n",
       "    <tr>\n",
       "      <th>2</th>\n",
       "      <td>2</td>\n",
       "      <td>31</td>\n",
       "      <td>Private</td>\n",
       "      <td>100135</td>\n",
       "      <td>Masters</td>\n",
       "      <td>14</td>\n",
       "      <td>Divorced</td>\n",
       "      <td>Exec-managerial</td>\n",
       "      <td>Not-in-family</td>\n",
       "      <td>White</td>\n",
       "      <td>Female</td>\n",
       "      <td>0</td>\n",
       "      <td>0</td>\n",
       "      <td>40</td>\n",
       "      <td>United-States</td>\n",
       "    </tr>\n",
       "    <tr>\n",
       "      <th>3</th>\n",
       "      <td>3</td>\n",
       "      <td>45</td>\n",
       "      <td>Private</td>\n",
       "      <td>189123</td>\n",
       "      <td>HS-grad</td>\n",
       "      <td>9</td>\n",
       "      <td>Never-married</td>\n",
       "      <td>Machine-op-inspct</td>\n",
       "      <td>Own-child</td>\n",
       "      <td>White</td>\n",
       "      <td>Male</td>\n",
       "      <td>0</td>\n",
       "      <td>0</td>\n",
       "      <td>40</td>\n",
       "      <td>United-States</td>\n",
       "    </tr>\n",
       "    <tr>\n",
       "      <th>4</th>\n",
       "      <td>4</td>\n",
       "      <td>64</td>\n",
       "      <td>Self-emp-inc</td>\n",
       "      <td>487751</td>\n",
       "      <td>Bachelors</td>\n",
       "      <td>13</td>\n",
       "      <td>Married-civ-spouse</td>\n",
       "      <td>Exec-managerial</td>\n",
       "      <td>Husband</td>\n",
       "      <td>White</td>\n",
       "      <td>Male</td>\n",
       "      <td>0</td>\n",
       "      <td>0</td>\n",
       "      <td>50</td>\n",
       "      <td>United-States</td>\n",
       "    </tr>\n",
       "  </tbody>\n",
       "</table>\n",
       "</div>"
      ],
      "text/plain": [
       "   Id  age     workclass  fnlwgt  education  education.num  \\\n",
       "0   0   25       Private  120596  Bachelors             13   \n",
       "1   1   64     State-gov  152537  Bachelors             13   \n",
       "2   2   31       Private  100135    Masters             14   \n",
       "3   3   45       Private  189123    HS-grad              9   \n",
       "4   4   64  Self-emp-inc  487751  Bachelors             13   \n",
       "\n",
       "       marital.status         occupation   relationship   race     sex  \\\n",
       "0       Never-married     Prof-specialty  Not-in-family  White    Male   \n",
       "1  Married-civ-spouse    Exec-managerial        Husband  White    Male   \n",
       "2            Divorced    Exec-managerial  Not-in-family  White  Female   \n",
       "3       Never-married  Machine-op-inspct      Own-child  White    Male   \n",
       "4  Married-civ-spouse    Exec-managerial        Husband  White    Male   \n",
       "\n",
       "   capital.gain  capital.loss  hours.per.week native.country  \n",
       "0             0             0              44  United-States  \n",
       "1             0             0              45  United-States  \n",
       "2             0             0              40  United-States  \n",
       "3             0             0              40  United-States  \n",
       "4             0             0              50  United-States  "
      ]
     },
     "execution_count": 6,
     "metadata": {},
     "output_type": "execute_result"
    }
   ],
   "source": [
    "## Now the testing dataset\n",
    "\n",
    "test_df.head()"
   ]
  },
  {
   "cell_type": "markdown",
   "id": "0f256676-339c-4daf-89e2-63bac203cc00",
   "metadata": {},
   "source": [
    "We can see that there are 16 variables in the dataset. 7 are continuous variables and 9 are discrete variable. There is a discrete variable that is target_class variable. It is also the target variable (the \"income\").\n",
    "\n",
    "\n",
    "Now, I will view the column names."
   ]
  },
  {
   "cell_type": "code",
   "execution_count": 7,
   "id": "345d2b75-b25c-42ff-b87b-817dd61be729",
   "metadata": {},
   "outputs": [
    {
     "data": {
      "text/plain": [
       "Index(['Id', 'age', 'workclass', 'fnlwgt', 'education', 'education.num',\n",
       "       'marital.status', 'occupation', 'relationship', 'race', 'sex',\n",
       "       'capital.gain', 'capital.loss', 'hours.per.week', 'native.country',\n",
       "       'income'],\n",
       "      dtype='object')"
      ]
     },
     "execution_count": 7,
     "metadata": {},
     "output_type": "execute_result"
    }
   ],
   "source": [
    "train_df.columns"
   ]
  },
  {
   "cell_type": "code",
   "execution_count": 8,
   "id": "e2468e49-00e3-488a-954a-3134615afa5f",
   "metadata": {},
   "outputs": [
    {
     "data": {
      "text/plain": [
       "Index(['Id', 'age', 'workclass', 'fnlwgt', 'education', 'education.num',\n",
       "       'marital.status', 'occupation', 'relationship', 'race', 'sex',\n",
       "       'capital.gain', 'capital.loss', 'hours.per.week', 'native.country'],\n",
       "      dtype='object')"
      ]
     },
     "execution_count": 8,
     "metadata": {},
     "output_type": "execute_result"
    }
   ],
   "source": [
    "test_df.columns"
   ]
  },
  {
   "cell_type": "markdown",
   "id": "91d122c3-831d-4f63-acff-b9e1142ab270",
   "metadata": {},
   "source": [
    "Our target variable is the \"income\" column. So, I will check its distribution."
   ]
  },
  {
   "cell_type": "code",
   "execution_count": 9,
   "id": "74ff8b48-3067-490e-b6cb-245e155acad5",
   "metadata": {},
   "outputs": [
    {
     "data": {
      "text/plain": [
       "<=50K    24719\n",
       ">50K      7841\n",
       "Name: income, dtype: int64"
      ]
     },
     "execution_count": 9,
     "metadata": {},
     "output_type": "execute_result"
    }
   ],
   "source": [
    "train_df['income'].value_counts()"
   ]
  },
  {
   "cell_type": "code",
   "execution_count": 10,
   "id": "bdba6843-0331-472f-8819-931865b83c19",
   "metadata": {},
   "outputs": [
    {
     "data": {
      "text/plain": [
       "<=50K    0.759183\n",
       ">50K     0.240817\n",
       "Name: income, dtype: float64"
      ]
     },
     "execution_count": 10,
     "metadata": {},
     "output_type": "execute_result"
    }
   ],
   "source": [
    "## View the percentage distribution of the target class column (Income)\n",
    "\n",
    "train_df['income'].value_counts()/np.float64(len(train_df))"
   ]
  },
  {
   "cell_type": "markdown",
   "id": "26ec1c97-b312-419b-b7a2-a8abc10fb769",
   "metadata": {},
   "source": [
    "We have 75,9% of people who makes <=50K and 24,1% for >50K."
   ]
  },
  {
   "cell_type": "code",
   "execution_count": 11,
   "id": "fa4a0fef-20dc-48b7-86f3-eb0db2d4b131",
   "metadata": {},
   "outputs": [
    {
     "name": "stdout",
     "output_type": "stream",
     "text": [
      "<class 'pandas.core.frame.DataFrame'>\n",
      "RangeIndex: 32560 entries, 0 to 32559\n",
      "Data columns (total 16 columns):\n",
      " #   Column          Non-Null Count  Dtype \n",
      "---  ------          --------------  ----- \n",
      " 0   Id              32560 non-null  int64 \n",
      " 1   age             32560 non-null  int64 \n",
      " 2   workclass       32560 non-null  object\n",
      " 3   fnlwgt          32560 non-null  int64 \n",
      " 4   education       32560 non-null  object\n",
      " 5   education.num   32560 non-null  int64 \n",
      " 6   marital.status  32560 non-null  object\n",
      " 7   occupation      32560 non-null  object\n",
      " 8   relationship    32560 non-null  object\n",
      " 9   race            32560 non-null  object\n",
      " 10  sex             32560 non-null  object\n",
      " 11  capital.gain    32560 non-null  int64 \n",
      " 12  capital.loss    32560 non-null  int64 \n",
      " 13  hours.per.week  32560 non-null  int64 \n",
      " 14  native.country  32560 non-null  object\n",
      " 15  income          32560 non-null  object\n",
      "dtypes: int64(7), object(9)\n",
      "memory usage: 4.0+ MB\n"
     ]
    }
   ],
   "source": [
    "## View summary of dataset\n",
    "\n",
    "train_df.info()"
   ]
  },
  {
   "cell_type": "markdown",
   "id": "e0f45c7e",
   "metadata": {},
   "source": [
    "We can start by looking at some simple initial statistics about our data!"
   ]
  },
  {
   "cell_type": "code",
   "execution_count": 12,
   "id": "dc527d29",
   "metadata": {},
   "outputs": [
    {
     "data": {
      "text/html": [
       "<div>\n",
       "<style scoped>\n",
       "    .dataframe tbody tr th:only-of-type {\n",
       "        vertical-align: middle;\n",
       "    }\n",
       "\n",
       "    .dataframe tbody tr th {\n",
       "        vertical-align: top;\n",
       "    }\n",
       "\n",
       "    .dataframe thead th {\n",
       "        text-align: right;\n",
       "    }\n",
       "</style>\n",
       "<table border=\"1\" class=\"dataframe\">\n",
       "  <thead>\n",
       "    <tr style=\"text-align: right;\">\n",
       "      <th></th>\n",
       "      <th>Id</th>\n",
       "      <th>age</th>\n",
       "      <th>fnlwgt</th>\n",
       "      <th>education.num</th>\n",
       "      <th>capital.gain</th>\n",
       "      <th>capital.loss</th>\n",
       "      <th>hours.per.week</th>\n",
       "    </tr>\n",
       "  </thead>\n",
       "  <tbody>\n",
       "    <tr>\n",
       "      <th>count</th>\n",
       "      <td>32560.000000</td>\n",
       "      <td>32560.000000</td>\n",
       "      <td>3.256000e+04</td>\n",
       "      <td>32560.000000</td>\n",
       "      <td>32560.000000</td>\n",
       "      <td>32560.000000</td>\n",
       "      <td>32560.000000</td>\n",
       "    </tr>\n",
       "    <tr>\n",
       "      <th>mean</th>\n",
       "      <td>32559.500000</td>\n",
       "      <td>38.581634</td>\n",
       "      <td>1.897818e+05</td>\n",
       "      <td>10.080590</td>\n",
       "      <td>1077.615172</td>\n",
       "      <td>87.306511</td>\n",
       "      <td>40.437469</td>\n",
       "    </tr>\n",
       "    <tr>\n",
       "      <th>std</th>\n",
       "      <td>9399.406719</td>\n",
       "      <td>13.640642</td>\n",
       "      <td>1.055498e+05</td>\n",
       "      <td>2.572709</td>\n",
       "      <td>7385.402999</td>\n",
       "      <td>402.966116</td>\n",
       "      <td>12.347618</td>\n",
       "    </tr>\n",
       "    <tr>\n",
       "      <th>min</th>\n",
       "      <td>16280.000000</td>\n",
       "      <td>17.000000</td>\n",
       "      <td>1.228500e+04</td>\n",
       "      <td>1.000000</td>\n",
       "      <td>0.000000</td>\n",
       "      <td>0.000000</td>\n",
       "      <td>1.000000</td>\n",
       "    </tr>\n",
       "    <tr>\n",
       "      <th>25%</th>\n",
       "      <td>24419.750000</td>\n",
       "      <td>28.000000</td>\n",
       "      <td>1.178315e+05</td>\n",
       "      <td>9.000000</td>\n",
       "      <td>0.000000</td>\n",
       "      <td>0.000000</td>\n",
       "      <td>40.000000</td>\n",
       "    </tr>\n",
       "    <tr>\n",
       "      <th>50%</th>\n",
       "      <td>32559.500000</td>\n",
       "      <td>37.000000</td>\n",
       "      <td>1.783630e+05</td>\n",
       "      <td>10.000000</td>\n",
       "      <td>0.000000</td>\n",
       "      <td>0.000000</td>\n",
       "      <td>40.000000</td>\n",
       "    </tr>\n",
       "    <tr>\n",
       "      <th>75%</th>\n",
       "      <td>40699.250000</td>\n",
       "      <td>48.000000</td>\n",
       "      <td>2.370545e+05</td>\n",
       "      <td>12.000000</td>\n",
       "      <td>0.000000</td>\n",
       "      <td>0.000000</td>\n",
       "      <td>45.000000</td>\n",
       "    </tr>\n",
       "    <tr>\n",
       "      <th>max</th>\n",
       "      <td>48839.000000</td>\n",
       "      <td>90.000000</td>\n",
       "      <td>1.484705e+06</td>\n",
       "      <td>16.000000</td>\n",
       "      <td>99999.000000</td>\n",
       "      <td>4356.000000</td>\n",
       "      <td>99.000000</td>\n",
       "    </tr>\n",
       "  </tbody>\n",
       "</table>\n",
       "</div>"
      ],
      "text/plain": [
       "                 Id           age        fnlwgt  education.num  capital.gain  \\\n",
       "count  32560.000000  32560.000000  3.256000e+04   32560.000000  32560.000000   \n",
       "mean   32559.500000     38.581634  1.897818e+05      10.080590   1077.615172   \n",
       "std     9399.406719     13.640642  1.055498e+05       2.572709   7385.402999   \n",
       "min    16280.000000     17.000000  1.228500e+04       1.000000      0.000000   \n",
       "25%    24419.750000     28.000000  1.178315e+05       9.000000      0.000000   \n",
       "50%    32559.500000     37.000000  1.783630e+05      10.000000      0.000000   \n",
       "75%    40699.250000     48.000000  2.370545e+05      12.000000      0.000000   \n",
       "max    48839.000000     90.000000  1.484705e+06      16.000000  99999.000000   \n",
       "\n",
       "       capital.loss  hours.per.week  \n",
       "count  32560.000000    32560.000000  \n",
       "mean      87.306511       40.437469  \n",
       "std      402.966116       12.347618  \n",
       "min        0.000000        1.000000  \n",
       "25%        0.000000       40.000000  \n",
       "50%        0.000000       40.000000  \n",
       "75%        0.000000       45.000000  \n",
       "max     4356.000000       99.000000  "
      ]
     },
     "execution_count": 12,
     "metadata": {},
     "output_type": "execute_result"
    }
   ],
   "source": [
    "train_df.describe()"
   ]
  },
  {
   "cell_type": "markdown",
   "id": "f1bdb3ce",
   "metadata": {},
   "source": [
    "We can see some information about the continuous features, as the mean, standard deviation, the minimum, maximum and in between values of the entire dataset.\n",
    "\n",
    "\n",
    "## Exploring missing values in variables"
   ]
  },
  {
   "cell_type": "code",
   "execution_count": 13,
   "id": "08357668-d32a-4fd2-b17f-50a51b62c67b",
   "metadata": {},
   "outputs": [
    {
     "data": {
      "text/plain": [
       "Id                0\n",
       "age               0\n",
       "workclass         0\n",
       "fnlwgt            0\n",
       "education         0\n",
       "education.num     0\n",
       "marital.status    0\n",
       "occupation        0\n",
       "relationship      0\n",
       "race              0\n",
       "sex               0\n",
       "capital.gain      0\n",
       "capital.loss      0\n",
       "hours.per.week    0\n",
       "native.country    0\n",
       "income            0\n",
       "dtype: int64"
      ]
     },
     "execution_count": 13,
     "metadata": {},
     "output_type": "execute_result"
    }
   ],
   "source": [
    "## Checking for missing values in variables\n",
    "\n",
    "train_df.isnull().sum()"
   ]
  },
  {
   "cell_type": "markdown",
   "id": "716b7d15-4970-4e51-b2ad-cdfee0d009b6",
   "metadata": {},
   "source": [
    "Let's remove the lines that are duplicate."
   ]
  },
  {
   "cell_type": "code",
   "execution_count": 14,
   "id": "9bf287c6-35fa-4a4d-861a-6240f935a443",
   "metadata": {},
   "outputs": [],
   "source": [
    "train_df = train_df.drop_duplicates()\n",
    "\n",
    "test_df = test_df.drop_duplicates()"
   ]
  },
  {
   "cell_type": "code",
   "execution_count": 15,
   "id": "9bb099fa-1254-41ae-8f9a-e5f323def231",
   "metadata": {},
   "outputs": [
    {
     "data": {
      "text/plain": [
       "Private             22696\n",
       "Self-emp-not-inc     2541\n",
       "Local-gov            2093\n",
       "?                    1836\n",
       "State-gov            1297\n",
       "Self-emp-inc         1116\n",
       "Federal-gov           960\n",
       "Without-pay            14\n",
       "Never-worked            7\n",
       "Name: workclass, dtype: int64"
      ]
     },
     "execution_count": 15,
     "metadata": {},
     "output_type": "execute_result"
    }
   ],
   "source": [
    "train_df['workclass'].value_counts()"
   ]
  },
  {
   "cell_type": "markdown",
   "id": "ef150d30",
   "metadata": {},
   "source": [
    "Seems like the missing values have a \"?\" instead of \"nan\", so we must solve that. For now, we may only replace them, later on we will input on those spaces. Let's first analyze which variables are not that relevant on predicting the income."
   ]
  },
  {
   "cell_type": "code",
   "execution_count": 16,
   "id": "9d1398b8",
   "metadata": {},
   "outputs": [],
   "source": [
    "## Replacing the missing values with \"nan\"\n",
    "\n",
    "train_df = train_df.replace('?', np.nan)\n",
    "\n",
    "test_df = test_df.replace('?', np.nan)"
   ]
  },
  {
   "cell_type": "code",
   "execution_count": 17,
   "id": "5f71cd21",
   "metadata": {},
   "outputs": [
    {
     "data": {
      "text/plain": [
       "Id                   0\n",
       "age                  0\n",
       "workclass         1836\n",
       "fnlwgt               0\n",
       "education            0\n",
       "education.num        0\n",
       "marital.status       0\n",
       "occupation        1843\n",
       "relationship         0\n",
       "race                 0\n",
       "sex                  0\n",
       "capital.gain         0\n",
       "capital.loss         0\n",
       "hours.per.week       0\n",
       "native.country     583\n",
       "income               0\n",
       "dtype: int64"
      ]
     },
     "execution_count": 17,
     "metadata": {},
     "output_type": "execute_result"
    }
   ],
   "source": [
    "train_df.isna().sum()"
   ]
  },
  {
   "cell_type": "code",
   "execution_count": 18,
   "id": "7e731b73",
   "metadata": {},
   "outputs": [
    {
     "data": {
      "text/plain": [
       "Id                  0\n",
       "age                 0\n",
       "workclass         963\n",
       "fnlwgt              0\n",
       "education           0\n",
       "education.num       0\n",
       "marital.status      0\n",
       "occupation        966\n",
       "relationship        0\n",
       "race                0\n",
       "sex                 0\n",
       "capital.gain        0\n",
       "capital.loss        0\n",
       "hours.per.week      0\n",
       "native.country    274\n",
       "dtype: int64"
      ]
     },
     "execution_count": 18,
     "metadata": {},
     "output_type": "execute_result"
    }
   ],
   "source": [
    "test_df.isna().sum()"
   ]
  },
  {
   "cell_type": "markdown",
   "id": "829a731f-fe09-494f-a0fc-0e714ffeb2eb",
   "metadata": {},
   "source": [
    "## Evaluating each variable"
   ]
  },
  {
   "cell_type": "code",
   "execution_count": 19,
   "id": "09c47e52",
   "metadata": {},
   "outputs": [],
   "source": [
    "## Setting the color palette\n",
    "\n",
    "sns.set_palette(sns.color_palette('Set2'))"
   ]
  },
  {
   "cell_type": "markdown",
   "id": "532a64ad-f51e-4ac2-a290-bb3d2c9e0c4b",
   "metadata": {},
   "source": [
    "### Continuous Variables"
   ]
  },
  {
   "cell_type": "markdown",
   "id": "37392234-aa0b-499d-b5b2-25a0802c4b6d",
   "metadata": {},
   "source": [
    "We should suspect that all the continuous variables may contain outliers. Drawing boxplots is a way to visualise those outliers."
   ]
  },
  {
   "cell_type": "code",
   "execution_count": 20,
   "id": "bff3b1fd-9a65-474c-8631-902c55c0d7a3",
   "metadata": {},
   "outputs": [
    {
     "data": {
      "text/plain": [
       "Text(0, 0.5, 'Number of people')"
      ]
     },
     "execution_count": 20,
     "metadata": {},
     "output_type": "execute_result"
    },
    {
     "data": {
      "image/png": "[encoded data removed]",
      "text/plain": [
       "<Figure size 1728x1440 with 6 Axes>"
      ]
     },
     "metadata": {
      "needs_background": "light"
     },
     "output_type": "display_data"
    }
   ],
   "source": [
    "## Draw boxplots to visualize outliers\n",
    "\n",
    "plt.figure(figsize=(24,20))\n",
    "\n",
    "\n",
    "## Age\n",
    "plt.subplot(4, 2, 1)\n",
    "fig = train_df.boxplot(column='age', fontsize=16)\n",
    "fig.set_title('')\n",
    "fig.set_ylabel('Number of people', fontsize=14)\n",
    "\n",
    "\n",
    "## Fnlwgt\n",
    "plt.subplot(4, 2, 2)\n",
    "fig = train_df.boxplot(column='fnlwgt', fontsize=16)\n",
    "fig.set_title('')\n",
    "fig.set_ylabel('Number of people', fontsize=14)\n",
    "\n",
    "\n",
    "## Education Num\n",
    "plt.subplot(4, 2, 3)\n",
    "fig = train_df.boxplot(column='education.num', fontsize=16)\n",
    "fig.set_title('')\n",
    "fig.set_ylabel('Number of people', fontsize=14)\n",
    "\n",
    "\n",
    "## Capital Gain\n",
    "plt.subplot(4, 2, 4)\n",
    "fig = train_df.boxplot(column='capital.gain', fontsize=16)\n",
    "fig.set_title('')\n",
    "fig.set_ylabel('Number of people', fontsize=14)\n",
    "\n",
    "\n",
    "## Capital Loss\n",
    "plt.subplot(4, 2, 5)\n",
    "fig = train_df.boxplot(column='capital.loss', fontsize=16)\n",
    "fig.set_title('')\n",
    "fig.set_ylabel('Number of people', fontsize=14)\n",
    "\n",
    "\n",
    "## Hours Per Week\n",
    "plt.subplot(4, 2, 6)\n",
    "fig = train_df.boxplot(column='hours.per.week', fontsize=16)\n",
    "fig.set_title('')\n",
    "fig.set_ylabel('Number of people', fontsize=14)"
   ]
  },
  {
   "cell_type": "code",
   "execution_count": 21,
   "id": "82d1fa2a-f3a8-4078-8396-d5232d102b3b",
   "metadata": {},
   "outputs": [
    {
     "data": {
      "text/plain": [
       "<AxesSubplot:xlabel='income', ylabel='hours.per.week'>"
      ]
     },
     "execution_count": 21,
     "metadata": {},
     "output_type": "execute_result"
    },
    {
     "data": {
      "image/png": "[encoded data removed]",
      "text/plain": [
       "<Figure size 1728x1440 with 6 Axes>"
      ]
     },
     "metadata": {
      "needs_background": "light"
     },
     "output_type": "display_data"
    }
   ],
   "source": [
    "## Another type of boxplots to visualize as a function of the Income\n",
    "\n",
    "plt.figure(figsize=(24,20))\n",
    "\n",
    "\n",
    "## Age\n",
    "plt.subplot(4, 2, 1)\n",
    "sns.boxenplot(data=train_df, x='income', y='age')\n",
    "\n",
    "\n",
    "## Fnlwgt\n",
    "plt.subplot(4, 2, 2)\n",
    "sns.boxenplot(data=train_df, x='income', y='fnlwgt')\n",
    "\n",
    "\n",
    "## Education Num\n",
    "plt.subplot(4, 2, 3)\n",
    "sns.boxenplot(data=train_df, x='income', y='education.num')\n",
    "\n",
    "\n",
    "## Capital Gain\n",
    "plt.subplot(4, 2, 4)\n",
    "sns.boxenplot(data=train_df, x='income', y='capital.gain')\n",
    "\n",
    "\n",
    "## Capital Loss\n",
    "plt.subplot(4, 2, 5)\n",
    "sns.boxenplot(data=train_df, x='income', y='capital.loss')\n",
    "\n",
    "\n",
    "## Hours Per Week\n",
    "plt.subplot(4, 2, 6)\n",
    "sns.boxenplot(data=train_df, x='income', y='hours.per.week')"
   ]
  },
  {
   "cell_type": "markdown",
   "id": "540d5508-3213-4740-a1de-e9f9e2a11bb2",
   "metadata": {},
   "source": [
    "Checking the distribution of variables to find out if they are normal or skewed."
   ]
  },
  {
   "cell_type": "code",
   "execution_count": 22,
   "id": "2fb1f8bf-83fe-4c55-b4c2-b9ac55fee6d5",
   "metadata": {},
   "outputs": [
    {
     "data": {
      "text/plain": [
       "Text(0, 0.5, 'Number of people')"
      ]
     },
     "execution_count": 22,
     "metadata": {},
     "output_type": "execute_result"
    },
    {
     "data": {
      "image/png": "[encoded data removed]",
      "text/plain": [
       "<Figure size 1728x1440 with 6 Axes>"
      ]
     },
     "metadata": {
      "needs_background": "light"
     },
     "output_type": "display_data"
    }
   ],
   "source": [
    "## Plot histogram to check distribution\n",
    "\n",
    "plt.figure(figsize=(24,20))\n",
    "\n",
    "\n",
    "## Age\n",
    "plt.subplot(4, 2, 1)\n",
    "fig = train_df['age'].hist(bins=20)\n",
    "fig.set_xlabel('Age', fontsize=14)\n",
    "fig.set_ylabel('Number of people', fontsize=14)\n",
    "\n",
    "\n",
    "## Fnlwgt\n",
    "plt.subplot(4, 2, 2)\n",
    "fig = train_df['fnlwgt'].hist(bins=20)\n",
    "fig.set_xlabel('Fnlwgt', fontsize=14)\n",
    "fig.set_ylabel('Number of people', fontsize=14)\n",
    "\n",
    "\n",
    "## Education Num\n",
    "plt.subplot(4, 2, 3)\n",
    "fig = train_df['education.num'].hist(bins=20)\n",
    "fig.set_xlabel('Education Number', fontsize=14)\n",
    "fig.set_ylabel('Number of people', fontsize=14)\n",
    "\n",
    "\n",
    "## Capital Gain\n",
    "plt.subplot(4, 2, 4)\n",
    "fig = train_df['capital.gain'].hist(bins=20)\n",
    "fig.set_xlabel('Capital Gain', fontsize=14)\n",
    "fig.set_ylabel('Number of people', fontsize=14)\n",
    "\n",
    "\n",
    "## Capital Loss\n",
    "plt.subplot(4, 2, 5)\n",
    "fig = train_df['capital.loss'].hist(bins=20)\n",
    "fig.set_xlabel('Capital Loss', fontsize=14)\n",
    "fig.set_ylabel('Number of people', fontsize=14)\n",
    "\n",
    "\n",
    "## Hours Per Week\n",
    "plt.subplot(4, 2, 6)\n",
    "fig = train_df['hours.per.week'].hist(bins=20)\n",
    "fig.set_xlabel('Hours Per Week', fontsize=14)\n",
    "fig.set_ylabel('Number of people', fontsize=14)"
   ]
  },
  {
   "cell_type": "markdown",
   "id": "d613cba7-1a18-4881-bdf0-49742cabb256",
   "metadata": {},
   "source": [
    "We should remove the variables that may not be essencial for this classification."
   ]
  },
  {
   "cell_type": "code",
   "execution_count": 23,
   "id": "ea0648bf-f498-4f6d-829e-ec65e189725a",
   "metadata": {},
   "outputs": [],
   "source": [
    "## Where 1 is the axis number (0 for rows and 1 for columns.)\n",
    "\n",
    "train_df = train_df.drop('Id', axis=1)\n",
    "\n",
    "# test_df = test_df.drop('Id', axis=1)"
   ]
  },
  {
   "cell_type": "markdown",
   "id": "b932bab9-f97b-4857-8e86-f9f3129d7d95",
   "metadata": {},
   "source": [
    "I'll delete the columns 'fnlwgt' and 'capital.loss'."
   ]
  },
  {
   "cell_type": "code",
   "execution_count": 24,
   "id": "e9366e7c-d4f7-490d-8997-0ba2340e3c76",
   "metadata": {},
   "outputs": [],
   "source": [
    "train_df = train_df.drop('fnlwgt', axis=1)\n",
    "\n",
    "test_df = test_df.drop('fnlwgt', axis=1)"
   ]
  },
  {
   "cell_type": "code",
   "execution_count": 25,
   "id": "952286ef-9560-44dd-828c-811aa6b4d091",
   "metadata": {},
   "outputs": [],
   "source": [
    "train_df = train_df.drop('capital.loss', axis=1)\n",
    "\n",
    "test_df = test_df.drop('capital.loss', axis=1)"
   ]
  },
  {
   "cell_type": "markdown",
   "id": "d7bc13f2-62f2-43cf-8df1-db6bae6ca863",
   "metadata": {},
   "source": [
    "### Discrete Variables"
   ]
  },
  {
   "cell_type": "code",
   "execution_count": 26,
   "id": "49c7752a-9e65-41ca-8cb9-07b38873e505",
   "metadata": {},
   "outputs": [
    {
     "data": {
      "text/plain": [
       "<AxesSubplot:title={'center':'Sex'}>"
      ]
     },
     "execution_count": 26,
     "metadata": {},
     "output_type": "execute_result"
    },
    {
     "data": {
      "image/png": "[encoded data removed]",
      "text/plain": [
       "<Figure size 1728x1800 with 8 Axes>"
      ]
     },
     "metadata": {
      "needs_background": "light"
     },
     "output_type": "display_data"
    }
   ],
   "source": [
    "## Bar plotting the features\n",
    "\n",
    "plt.figure(figsize=(24,25))\n",
    "\n",
    "\n",
    "## Native Country\n",
    "plt.subplot(4, 2, 1)\n",
    "train_df['native.country'].value_counts().plot(kind='barh', title='Native Country', fontsize=14)\n",
    "\n",
    "\n",
    "## Workclass\n",
    "plt.subplot(4, 2, 2)\n",
    "train_df['workclass'].value_counts().plot(kind='barh', title='Workclass', fontsize=14)\n",
    "\n",
    "\n",
    "## Education\n",
    "plt.subplot(4, 2, 3)\n",
    "train_df['education'].value_counts().plot(kind='barh', title='Education', fontsize=14)\n",
    "\n",
    "\n",
    "## Marital Status\n",
    "plt.subplot(4, 2, 4)\n",
    "train_df['marital.status'].value_counts().plot(kind='barh', title='Marital Status', fontsize=14)\n",
    "\n",
    "\n",
    "## Occupation\n",
    "plt.subplot(4, 2, 5)\n",
    "train_df['occupation'].value_counts().plot(kind='barh', title='Occupation', fontsize=14)\n",
    "\n",
    "\n",
    "## Relationship\n",
    "plt.subplot(4, 2, 6)\n",
    "train_df['relationship'].value_counts().plot(kind='barh', title='Relationship', fontsize=14)\n",
    "\n",
    "\n",
    "## Race\n",
    "plt.subplot(4, 2, 7)\n",
    "train_df['race'].value_counts().plot(kind='barh', title='Race', fontsize=14)\n",
    "\n",
    "\n",
    "## Sex\n",
    "plt.subplot(4, 2, 8)\n",
    "train_df['sex'].value_counts().plot(kind='barh', title='Sex', fontsize=14)"
   ]
  },
  {
   "cell_type": "code",
   "execution_count": 27,
   "id": "2b52cbb0-463a-4d56-bda8-ece48ebc5de9",
   "metadata": {},
   "outputs": [
    {
     "data": {
      "image/png": "[encoded data removed]",
      "text/plain": [
       "<Figure size 1728x1440 with 8 Axes>"
      ]
     },
     "metadata": {
      "needs_background": "light"
     },
     "output_type": "display_data"
    }
   ],
   "source": [
    "## A Histogram survey\n",
    "\n",
    "plt.figure(figsize=(24,20))\n",
    "\n",
    "\n",
    "## Native Country\n",
    "plt.subplot(4, 2, 1)\n",
    "sns.histplot(data=train_df, x='native.country', multiple='layer', kde=False, stat='percent', hue='income')\n",
    "plt.title('Native Country', fontsize=14)\n",
    "\n",
    "\n",
    "## Workclass\n",
    "plt.subplot(4, 2, 2)\n",
    "sns.histplot(data=train_df, x='workclass', multiple='layer', kde=False, stat='percent', hue='income')\n",
    "plt.title('Workclass', fontsize=14)\n",
    "\n",
    "\n",
    "## Education\n",
    "plt.subplot(4, 2, 3)\n",
    "sns.histplot(data=train_df, x='education', multiple='layer', kde=False, stat='percent', hue='income')\n",
    "plt.title('Education', fontsize=14)\n",
    "\n",
    "\n",
    "## Marital Status\n",
    "plt.subplot(4, 2, 4)\n",
    "sns.histplot(data=train_df, x='marital.status', multiple='layer', kde=False, stat='percent', hue='income')\n",
    "plt.title('Marital Status', fontsize=14)\n",
    "\n",
    "\n",
    "## Occupation\n",
    "plt.subplot(4, 2, 5)\n",
    "sns.histplot(data=train_df, x='occupation', multiple='layer', kde=False, stat='percent', hue='income')\n",
    "plt.title('Occupation', fontsize=14)\n",
    "\n",
    "\n",
    "## Relationship\n",
    "plt.subplot(4, 2, 6)\n",
    "sns.histplot(data=train_df, x='relationship', multiple='layer', kde=False, stat='percent', hue='income')\n",
    "plt.title('Relationship', fontsize=14)\n",
    "\n",
    "\n",
    "## Race\n",
    "plt.subplot(4, 2, 7)\n",
    "sns.histplot(data=train_df, x='race', multiple='layer', kde=False, stat='percent', hue='income')\n",
    "plt.title('Race', fontsize=14)\n",
    "\n",
    "\n",
    "## Sex\n",
    "plt.subplot(4, 2, 8)\n",
    "sns.histplot(data=train_df, x='sex', multiple='layer', kde=False, stat='percent', hue='income')\n",
    "plt.title('Sex', fontsize=14)\n",
    "\n",
    "\n",
    "plt.show()"
   ]
  },
  {
   "cell_type": "markdown",
   "id": "bf213c29-528c-4496-9f30-b39529059683",
   "metadata": {},
   "source": [
    "Let's start by the Native Country variable."
   ]
  },
  {
   "cell_type": "code",
   "execution_count": 28,
   "id": "364de0a6-06b8-453d-9316-a2ec1c2e5742",
   "metadata": {},
   "outputs": [
    {
     "data": {
      "text/plain": [
       "United-States                 29169\n",
       "Mexico                          643\n",
       "Philippines                     198\n",
       "Germany                         137\n",
       "Canada                          121\n",
       "Puerto-Rico                     114\n",
       "El-Salvador                     106\n",
       "India                           100\n",
       "Cuba                             95\n",
       "England                          90\n",
       "Jamaica                          81\n",
       "South                            80\n",
       "China                            75\n",
       "Italy                            73\n",
       "Dominican-Republic               70\n",
       "Vietnam                          67\n",
       "Guatemala                        64\n",
       "Japan                            62\n",
       "Poland                           60\n",
       "Columbia                         59\n",
       "Taiwan                           51\n",
       "Haiti                            44\n",
       "Iran                             43\n",
       "Portugal                         37\n",
       "Nicaragua                        34\n",
       "Peru                             31\n",
       "France                           29\n",
       "Greece                           29\n",
       "Ecuador                          28\n",
       "Ireland                          24\n",
       "Hong                             20\n",
       "Cambodia                         19\n",
       "Trinadad&Tobago                  19\n",
       "Thailand                         18\n",
       "Laos                             18\n",
       "Yugoslavia                       16\n",
       "Outlying-US(Guam-USVI-etc)       14\n",
       "Hungary                          13\n",
       "Honduras                         13\n",
       "Scotland                         12\n",
       "Holand-Netherlands                1\n",
       "Name: native.country, dtype: int64"
      ]
     },
     "execution_count": 28,
     "metadata": {},
     "output_type": "execute_result"
    }
   ],
   "source": [
    "## Native Country\n",
    "\n",
    "train_df['native.country'].value_counts()"
   ]
  },
  {
   "cell_type": "code",
   "execution_count": 29,
   "id": "6ed9f1a6-4040-44bf-b24d-19e31b2a09de",
   "metadata": {},
   "outputs": [
    {
     "data": {
      "text/plain": [
       "United-States                 0.895854\n",
       "Mexico                        0.019748\n",
       "Philippines                   0.006081\n",
       "Germany                       0.004208\n",
       "Canada                        0.003716\n",
       "Puerto-Rico                   0.003501\n",
       "El-Salvador                   0.003256\n",
       "India                         0.003071\n",
       "Cuba                          0.002918\n",
       "England                       0.002764\n",
       "Jamaica                       0.002488\n",
       "South                         0.002457\n",
       "China                         0.002303\n",
       "Italy                         0.002242\n",
       "Dominican-Republic            0.002150\n",
       "Vietnam                       0.002058\n",
       "Guatemala                     0.001966\n",
       "Japan                         0.001904\n",
       "Poland                        0.001843\n",
       "Columbia                      0.001812\n",
       "Taiwan                        0.001566\n",
       "Haiti                         0.001351\n",
       "Iran                          0.001321\n",
       "Portugal                      0.001136\n",
       "Nicaragua                     0.001044\n",
       "Peru                          0.000952\n",
       "France                        0.000891\n",
       "Greece                        0.000891\n",
       "Ecuador                       0.000860\n",
       "Ireland                       0.000737\n",
       "Hong                          0.000614\n",
       "Cambodia                      0.000584\n",
       "Trinadad&Tobago               0.000584\n",
       "Thailand                      0.000553\n",
       "Laos                          0.000553\n",
       "Yugoslavia                    0.000491\n",
       "Outlying-US(Guam-USVI-etc)    0.000430\n",
       "Hungary                       0.000399\n",
       "Honduras                      0.000399\n",
       "Scotland                      0.000369\n",
       "Holand-Netherlands            0.000031\n",
       "Name: native.country, dtype: float64"
      ]
     },
     "execution_count": 29,
     "metadata": {},
     "output_type": "execute_result"
    }
   ],
   "source": [
    "## View the percentage distribution of the Native Country column\n",
    "\n",
    "train_df['native.country'].value_counts()/np.float64(len(train_df))"
   ]
  },
  {
   "cell_type": "markdown",
   "id": "1cedbc20",
   "metadata": {},
   "source": [
    "WOW! We can clearly see that we have WAY more data of people from the United States than all of the other countries! There are 89,5% of people from USA, while there are 1,9% of people from Mexico, and it's the 2nd one with the largest number of people in this dataset. Clearly, it should not be a relevant factor, so we can delete it."
   ]
  },
  {
   "cell_type": "code",
   "execution_count": 30,
   "id": "2fbcb775-9f9f-43ff-a78b-dec2c8e188f1",
   "metadata": {},
   "outputs": [],
   "source": [
    "## Eliminating this column\n",
    "\n",
    "train_df = train_df.drop('native.country', axis=1)\n",
    "\n",
    "test_df = test_df.drop('native.country', axis=1)"
   ]
  },
  {
   "cell_type": "markdown",
   "id": "38a8129e-df5b-4acc-b30a-aaf68e1190eb",
   "metadata": {},
   "source": [
    "There are other variables that I'll eliminate."
   ]
  },
  {
   "cell_type": "code",
   "execution_count": 31,
   "id": "6f167adc-3cf4-49c9-8986-12cbe14e7bf9",
   "metadata": {},
   "outputs": [],
   "source": [
    "train_df = train_df.drop('sex', axis=1)\n",
    "\n",
    "test_df = test_df.drop('sex', axis=1) "
   ]
  },
  {
   "cell_type": "code",
   "execution_count": 32,
   "id": "465758d3-b173-4baa-915c-c07f86b3532f",
   "metadata": {},
   "outputs": [],
   "source": [
    "train_df = train_df.drop('race', axis=1)\n",
    "\n",
    "test_df = test_df.drop('race', axis=1)"
   ]
  },
  {
   "cell_type": "markdown",
   "id": "9c6a0490-c2cd-45dd-b892-73da8b4ca713",
   "metadata": {},
   "source": [
    "Those are the columns that remain. Let's analyze them by correlating variables to see if we can delete another column."
   ]
  },
  {
   "cell_type": "code",
   "execution_count": 33,
   "id": "63b7ff8b-a5c0-4363-8720-b66725d287ac",
   "metadata": {},
   "outputs": [
    {
     "data": {
      "text/plain": [
       "Index(['age', 'workclass', 'education', 'education.num', 'marital.status',\n",
       "       'occupation', 'relationship', 'capital.gain', 'hours.per.week',\n",
       "       'income'],\n",
       "      dtype='object')"
      ]
     },
     "execution_count": 33,
     "metadata": {},
     "output_type": "execute_result"
    }
   ],
   "source": [
    "train_df.columns"
   ]
  },
  {
   "cell_type": "code",
   "execution_count": 34,
   "id": "492c2915-2a66-42ad-909d-cd84b9cd1f6b",
   "metadata": {},
   "outputs": [
    {
     "data": {
      "text/plain": [
       "Index(['Id', 'age', 'workclass', 'education', 'education.num',\n",
       "       'marital.status', 'occupation', 'relationship', 'capital.gain',\n",
       "       'hours.per.week'],\n",
       "      dtype='object')"
      ]
     },
     "execution_count": 34,
     "metadata": {},
     "output_type": "execute_result"
    }
   ],
   "source": [
    "test_df.columns"
   ]
  },
  {
   "cell_type": "markdown",
   "id": "d348c5ed-0111-4358-9e70-e61d11bb5dab",
   "metadata": {},
   "source": [
    "### Correlations between continuous and discrete variables"
   ]
  },
  {
   "cell_type": "code",
   "execution_count": 35,
   "id": "d2ed7cd0-6c5d-4b7b-bc18-b43aedeb976f",
   "metadata": {},
   "outputs": [
    {
     "data": {
      "text/plain": [
       "<seaborn.axisgrid.FacetGrid at 0x7fbb816fcdc0>"
      ]
     },
     "execution_count": 35,
     "metadata": {},
     "output_type": "execute_result"
    },
    {
     "data": {
      "image/png": "[encoded data removed]",
      "text/plain": [
       "<Figure size 431.75x360 with 1 Axes>"
      ]
     },
     "metadata": {
      "needs_background": "light"
     },
     "output_type": "display_data"
    }
   ],
   "source": [
    "## Looking for correlations between age and workclass\n",
    "\n",
    "sns.catplot(data=train_df, x=\"age\", y=\"workclass\", hue=\"income\", kind=\"boxen\")"
   ]
  },
  {
   "cell_type": "code",
   "execution_count": 36,
   "id": "f988e594-f1e4-48b7-ab52-5400a06b4f64",
   "metadata": {},
   "outputs": [
    {
     "data": {
      "text/plain": [
       "<seaborn.axisgrid.FacetGrid at 0x7fbba2e467f0>"
      ]
     },
     "execution_count": 36,
     "metadata": {},
     "output_type": "execute_result"
    },
    {
     "data": {
      "image/png": "[encoded data removed]",
      "text/plain": [
       "<Figure size 431.75x360 with 1 Axes>"
      ]
     },
     "metadata": {
      "needs_background": "light"
     },
     "output_type": "display_data"
    }
   ],
   "source": [
    "## age and occupation\n",
    "\n",
    "sns.catplot(data=train_df, x=\"age\", y=\"occupation\", hue=\"income\", kind=\"boxen\")"
   ]
  },
  {
   "cell_type": "code",
   "execution_count": 37,
   "id": "a0a6efd7-99e4-4fe8-97fd-f918594e884d",
   "metadata": {},
   "outputs": [
    {
     "data": {
      "text/plain": [
       "<seaborn.axisgrid.FacetGrid at 0x7fbb90ac6070>"
      ]
     },
     "execution_count": 37,
     "metadata": {},
     "output_type": "execute_result"
    },
    {
     "data": {
      "image/png": "[encoded data removed]",
      "text/plain": [
       "<Figure size 431.75x360 with 1 Axes>"
      ]
     },
     "metadata": {
      "needs_background": "light"
     },
     "output_type": "display_data"
    }
   ],
   "source": [
    "## education.num and marital.status\n",
    "\n",
    "sns.catplot(data=train_df, x=\"education.num\", y=\"marital.status\", hue=\"income\", kind=\"boxen\")"
   ]
  },
  {
   "cell_type": "code",
   "execution_count": 38,
   "id": "4334bead-acf0-4671-bdb8-c5ffa4f558c0",
   "metadata": {},
   "outputs": [
    {
     "data": {
      "text/plain": [
       "<seaborn.axisgrid.FacetGrid at 0x7fbba2e74af0>"
      ]
     },
     "execution_count": 38,
     "metadata": {},
     "output_type": "execute_result"
    },
    {
     "data": {
      "image/png": "[encoded data removed]",
      "text/plain": [
       "<Figure size 431.75x360 with 1 Axes>"
      ]
     },
     "metadata": {
      "needs_background": "light"
     },
     "output_type": "display_data"
    }
   ],
   "source": [
    "## education.num and workclass\n",
    "\n",
    "sns.catplot(data=train_df, x=\"education.num\", y=\"workclass\", hue=\"income\", kind=\"boxen\")"
   ]
  },
  {
   "cell_type": "code",
   "execution_count": 39,
   "id": "0a1e992d-8054-4ca8-85e8-05d18cf414ad",
   "metadata": {},
   "outputs": [
    {
     "data": {
      "text/plain": [
       "<seaborn.axisgrid.FacetGrid at 0x7fbb8147f8e0>"
      ]
     },
     "execution_count": 39,
     "metadata": {},
     "output_type": "execute_result"
    },
    {
     "data": {
      "image/png": "[encoded data removed]",
      "text/plain": [
       "<Figure size 431.75x360 with 1 Axes>"
      ]
     },
     "metadata": {
      "needs_background": "light"
     },
     "output_type": "display_data"
    }
   ],
   "source": [
    "## hours.per.week and workclass\n",
    "\n",
    "sns.catplot(data=train_df, x=\"hours.per.week\", y=\"workclass\", hue=\"income\", kind=\"boxen\")"
   ]
  },
  {
   "cell_type": "code",
   "execution_count": 40,
   "id": "4d4b6d98-349e-4b44-8098-81f4cbe109aa",
   "metadata": {},
   "outputs": [
    {
     "data": {
      "text/plain": [
       "<seaborn.axisgrid.FacetGrid at 0x7fbb7125b310>"
      ]
     },
     "execution_count": 40,
     "metadata": {},
     "output_type": "execute_result"
    },
    {
     "data": {
      "image/png": "[encoded data removed]",
      "text/plain": [
       "<Figure size 431.75x360 with 1 Axes>"
      ]
     },
     "metadata": {
      "needs_background": "light"
     },
     "output_type": "display_data"
    }
   ],
   "source": [
    "## workclass and relationship\n",
    "\n",
    "sns.catplot(data=train_df, x=\"hours.per.week\", y=\"relationship\", hue=\"income\", kind=\"boxen\")"
   ]
  },
  {
   "cell_type": "markdown",
   "id": "583fecee-9344-4097-bed9-3a278529924f",
   "metadata": {},
   "source": [
    "# Data Prep"
   ]
  },
  {
   "cell_type": "markdown",
   "id": "28144300",
   "metadata": {},
   "source": [
    "Importing the LabelEncoder, KNNImputer and StandardScaler for the Data Preparation"
   ]
  },
  {
   "cell_type": "code",
   "execution_count": 41,
   "id": "7175cdd1",
   "metadata": {},
   "outputs": [],
   "source": [
    "from sklearn.preprocessing import LabelEncoder \n",
    "from sklearn.impute import KNNImputer\n",
    "from sklearn.preprocessing import StandardScaler"
   ]
  },
  {
   "cell_type": "code",
   "execution_count": 42,
   "id": "ba57efea-7be2-4d28-aedc-2a07076fdeb2",
   "metadata": {},
   "outputs": [
    {
     "data": {
      "text/plain": [
       "age                  0\n",
       "workclass         1836\n",
       "education            0\n",
       "education.num        0\n",
       "marital.status       0\n",
       "occupation        1843\n",
       "relationship         0\n",
       "capital.gain         0\n",
       "hours.per.week       0\n",
       "income               0\n",
       "dtype: int64"
      ]
     },
     "execution_count": 42,
     "metadata": {},
     "output_type": "execute_result"
    }
   ],
   "source": [
    "train_df.isna().sum()"
   ]
  },
  {
   "cell_type": "code",
   "execution_count": 43,
   "id": "66eb94d0-82ae-4b59-87e9-db4ccb8f13fc",
   "metadata": {},
   "outputs": [
    {
     "data": {
      "text/plain": [
       "Id                  0\n",
       "age                 0\n",
       "workclass         963\n",
       "education           0\n",
       "education.num       0\n",
       "marital.status      0\n",
       "occupation        966\n",
       "relationship        0\n",
       "capital.gain        0\n",
       "hours.per.week      0\n",
       "dtype: int64"
      ]
     },
     "execution_count": 43,
     "metadata": {},
     "output_type": "execute_result"
    }
   ],
   "source": [
    "test_df.isna().sum()"
   ]
  },
  {
   "cell_type": "markdown",
   "id": "8f208fbe-7cba-4705-9d91-4a68c8aa4c05",
   "metadata": {},
   "source": [
    "## Encoding discrete variables into continuous variables"
   ]
  },
  {
   "cell_type": "code",
   "execution_count": 44,
   "id": "1eaa2532",
   "metadata": {},
   "outputs": [],
   "source": [
    "label_encoder = LabelEncoder()\n",
    "\n",
    "columns_encoder = ['income', 'workclass', 'education', 'marital.status', 'occupation', 'relationship']\n",
    "\n",
    "for column in columns_encoder:\n",
    "    train_df[column] = label_encoder.fit_transform(train_df[column].astype(str))\n",
    "    if column != 'income' :\n",
    "        test_df[column] = label_encoder.fit_transform(test_df[column].astype(str))"
   ]
  },
  {
   "cell_type": "code",
   "execution_count": 45,
   "id": "6b14636f-222e-4e5d-956b-c8d9e33faed6",
   "metadata": {},
   "outputs": [
    {
     "data": {
      "text/html": [
       "<div>\n",
       "<style scoped>\n",
       "    .dataframe tbody tr th:only-of-type {\n",
       "        vertical-align: middle;\n",
       "    }\n",
       "\n",
       "    .dataframe tbody tr th {\n",
       "        vertical-align: top;\n",
       "    }\n",
       "\n",
       "    .dataframe thead th {\n",
       "        text-align: right;\n",
       "    }\n",
       "</style>\n",
       "<table border=\"1\" class=\"dataframe\">\n",
       "  <thead>\n",
       "    <tr style=\"text-align: right;\">\n",
       "      <th></th>\n",
       "      <th>age</th>\n",
       "      <th>workclass</th>\n",
       "      <th>education</th>\n",
       "      <th>education.num</th>\n",
       "      <th>marital.status</th>\n",
       "      <th>occupation</th>\n",
       "      <th>relationship</th>\n",
       "      <th>capital.gain</th>\n",
       "      <th>hours.per.week</th>\n",
       "      <th>income</th>\n",
       "    </tr>\n",
       "  </thead>\n",
       "  <tbody>\n",
       "    <tr>\n",
       "      <th>0</th>\n",
       "      <td>34</td>\n",
       "      <td>3</td>\n",
       "      <td>15</td>\n",
       "      <td>10</td>\n",
       "      <td>0</td>\n",
       "      <td>3</td>\n",
       "      <td>3</td>\n",
       "      <td>0</td>\n",
       "      <td>44</td>\n",
       "      <td>0</td>\n",
       "    </tr>\n",
       "    <tr>\n",
       "      <th>1</th>\n",
       "      <td>58</td>\n",
       "      <td>1</td>\n",
       "      <td>0</td>\n",
       "      <td>6</td>\n",
       "      <td>2</td>\n",
       "      <td>13</td>\n",
       "      <td>0</td>\n",
       "      <td>0</td>\n",
       "      <td>40</td>\n",
       "      <td>0</td>\n",
       "    </tr>\n",
       "    <tr>\n",
       "      <th>2</th>\n",
       "      <td>25</td>\n",
       "      <td>3</td>\n",
       "      <td>15</td>\n",
       "      <td>10</td>\n",
       "      <td>4</td>\n",
       "      <td>6</td>\n",
       "      <td>1</td>\n",
       "      <td>0</td>\n",
       "      <td>42</td>\n",
       "      <td>0</td>\n",
       "    </tr>\n",
       "    <tr>\n",
       "      <th>3</th>\n",
       "      <td>24</td>\n",
       "      <td>3</td>\n",
       "      <td>15</td>\n",
       "      <td>10</td>\n",
       "      <td>0</td>\n",
       "      <td>0</td>\n",
       "      <td>1</td>\n",
       "      <td>0</td>\n",
       "      <td>40</td>\n",
       "      <td>0</td>\n",
       "    </tr>\n",
       "    <tr>\n",
       "      <th>4</th>\n",
       "      <td>57</td>\n",
       "      <td>4</td>\n",
       "      <td>11</td>\n",
       "      <td>9</td>\n",
       "      <td>2</td>\n",
       "      <td>13</td>\n",
       "      <td>0</td>\n",
       "      <td>5178</td>\n",
       "      <td>60</td>\n",
       "      <td>1</td>\n",
       "    </tr>\n",
       "  </tbody>\n",
       "</table>\n",
       "</div>"
      ],
      "text/plain": [
       "   age  workclass  education  education.num  marital.status  occupation  \\\n",
       "0   34          3         15             10               0           3   \n",
       "1   58          1          0              6               2          13   \n",
       "2   25          3         15             10               4           6   \n",
       "3   24          3         15             10               0           0   \n",
       "4   57          4         11              9               2          13   \n",
       "\n",
       "   relationship  capital.gain  hours.per.week  income  \n",
       "0             3             0              44       0  \n",
       "1             0             0              40       0  \n",
       "2             1             0              42       0  \n",
       "3             1             0              40       0  \n",
       "4             0          5178              60       1  "
      ]
     },
     "execution_count": 45,
     "metadata": {},
     "output_type": "execute_result"
    }
   ],
   "source": [
    "train_df.head()"
   ]
  },
  {
   "cell_type": "markdown",
   "id": "e50572bf-cab7-4d6a-926f-46c05ebaba11",
   "metadata": {},
   "source": [
    "## Imputating the missing values"
   ]
  },
  {
   "cell_type": "markdown",
   "id": "9c9f0dee-c70c-463d-b338-c2ec8183d28f",
   "metadata": {},
   "source": [
    "Checking if there are any remaining missing values"
   ]
  },
  {
   "cell_type": "code",
   "execution_count": 46,
   "id": "52030a27",
   "metadata": {},
   "outputs": [],
   "source": [
    "## Imputing values\n",
    "\n",
    "imput = KNNImputer(n_neighbors=5)\n",
    "\n",
    "## Train Dataset\n",
    "train_df[['occupation', 'workclass']] = imput.fit_transform(train_df[['occupation', 'workclass']])\n",
    "\n",
    "## Test Dataset\n",
    "test_df[['occupation', 'workclass']] = imput.fit_transform(test_df[['occupation', 'workclass']])"
   ]
  },
  {
   "cell_type": "markdown",
   "id": "78b28bef-e27b-426b-bf9d-12dd27bab8f9",
   "metadata": {},
   "source": [
    "## Scaling the features"
   ]
  },
  {
   "cell_type": "code",
   "execution_count": 47,
   "id": "bc506160",
   "metadata": {},
   "outputs": [],
   "source": [
    "scale = StandardScaler()\n",
    "\n",
    "Standard_scaler = ['age', 'workclass', 'education', 'education.num', 'marital.status', \n",
    "                   'occupation', 'relationship', 'capital.gain', 'hours.per.week']\n",
    "\n",
    "\n",
    "train_df[Standard_scaler] = scale.fit_transform(train_df[Standard_scaler])\n",
    "\n",
    "test_df[Standard_scaler] = scale.fit_transform(test_df[Standard_scaler])"
   ]
  },
  {
   "cell_type": "code",
   "execution_count": 48,
   "id": "a32813ec-9304-4a0f-a0a3-3ebc93de9178",
   "metadata": {},
   "outputs": [
    {
     "data": {
      "text/plain": [
       "Index(['age', 'workclass', 'education', 'education.num', 'marital.status',\n",
       "       'occupation', 'relationship', 'capital.gain', 'hours.per.week',\n",
       "       'income'],\n",
       "      dtype='object')"
      ]
     },
     "execution_count": 48,
     "metadata": {},
     "output_type": "execute_result"
    }
   ],
   "source": [
    "train_df.columns"
   ]
  },
  {
   "cell_type": "code",
   "execution_count": 49,
   "id": "ac383d0f-f579-4854-a07b-3234ad4b1b62",
   "metadata": {},
   "outputs": [
    {
     "data": {
      "text/plain": [
       "Index(['Id', 'age', 'workclass', 'education', 'education.num',\n",
       "       'marital.status', 'occupation', 'relationship', 'capital.gain',\n",
       "       'hours.per.week'],\n",
       "      dtype='object')"
      ]
     },
     "execution_count": 49,
     "metadata": {},
     "output_type": "execute_result"
    }
   ],
   "source": [
    "test_df.columns"
   ]
  },
  {
   "cell_type": "markdown",
   "id": "168ac3eb-21d0-4e21-b719-8fab9326f7ca",
   "metadata": {},
   "source": [
    "# Classifying in different ways"
   ]
  },
  {
   "cell_type": "markdown",
   "id": "4069512c-dc9c-4c8b-8584-ad34a9f4e23b",
   "metadata": {},
   "source": [
    "Let's define empty lists in which we fill with the name of the classifier, the accuracy and error rate, so"
   ]
  },
  {
   "cell_type": "code",
   "execution_count": 51,
   "id": "907a672b-576d-47a1-af47-92118cc07efc",
   "metadata": {},
   "outputs": [],
   "source": [
    "classifier_list = []\n",
    "accuracy_list = []\n",
    "error_rate_list = []"
   ]
  },
  {
   "cell_type": "markdown",
   "id": "747589dc-a646-49d5-936c-581621d6212e",
   "metadata": {},
   "source": [
    "First, let's set the variables we are training, testing and predicting."
   ]
  },
  {
   "cell_type": "code",
   "execution_count": 52,
   "id": "dd3e29b6-3292-4153-a14e-3282d90bd562",
   "metadata": {},
   "outputs": [],
   "source": [
    "## Input\n",
    "X_train = train_df.iloc[:, train_df.columns != 'income']\n",
    "X_test = test_df\n",
    "\n",
    "## Output: Income - target variable\n",
    "y_train = train_df.iloc[:, train_df.columns == 'income']"
   ]
  },
  {
   "cell_type": "markdown",
   "id": "c7b0b9fd-ceba-4469-a635-317a89e2a46b",
   "metadata": {},
   "source": [
    "## Classifier 0: K- Nearest Neighbors (last Assignment)"
   ]
  },
  {
   "cell_type": "code",
   "execution_count": 53,
   "id": "74b75e01-1a7f-42de-8056-d40028332ecd",
   "metadata": {},
   "outputs": [],
   "source": [
    "## Imports\n",
    "\n",
    "from sklearn.metrics import accuracy_score, precision_score, recall_score,f1_score\n",
    "\n",
    "from sklearn.neighbors import KNeighborsClassifier\n",
    "from sklearn.model_selection import GridSearchCV\n",
    "from sklearn.model_selection import cross_validate"
   ]
  },
  {
   "cell_type": "markdown",
   "id": "a9c1cc78",
   "metadata": {},
   "source": [
    "We will select k through cross validation for the k-NN."
   ]
  },
  {
   "cell_type": "markdown",
   "id": "5ed7f898",
   "metadata": {},
   "source": [
    "### Cross Validation for the Hyperparameter k"
   ]
  },
  {
   "cell_type": "code",
   "execution_count": 54,
   "id": "023737b8",
   "metadata": {},
   "outputs": [
    {
     "name": "stdout",
     "output_type": "stream",
     "text": [
      "Fitting 5 folds for each of 3 candidates, totalling 15 fits\n"
     ]
    }
   ],
   "source": [
    "knn = KNeighborsClassifier()\n",
    "\n",
    "## Defining parameter range\n",
    "range_k = np.arange(13, 25, 5)\n",
    "\n",
    "parameter_grid = dict(n_neighbors=range_k)\n",
    "  \n",
    "## Search for the best hyperparameter k\n",
    "grid = GridSearchCV(knn, parameter_grid, cv=5, scoring='accuracy', return_train_score=True, verbose=1)\n",
    "  \n",
    "## Fit classifier to training set using grid search\n",
    "grid_search = grid.fit(X_train, y_train.values.ravel())"
   ]
  },
  {
   "cell_type": "code",
   "execution_count": 55,
   "id": "92cdf6a1-577f-4f50-afd4-ce47b0a59dd1",
   "metadata": {},
   "outputs": [
    {
     "name": "stdout",
     "output_type": "stream",
     "text": [
      "the best k parameter is: {'n_neighbors': 23}\n"
     ]
    }
   ],
   "source": [
    "print('the best k parameter is:', grid_search.best_params_)"
   ]
  },
  {
   "cell_type": "markdown",
   "id": "c5221333-8d82-43db-b5a0-cf7294747a99",
   "metadata": {},
   "source": [
    "### Scores from hyperparameter cross validation"
   ]
  },
  {
   "cell_type": "code",
   "execution_count": 56,
   "id": "74b720e7-e39a-4057-b51c-06e41d7fc2b0",
   "metadata": {},
   "outputs": [
    {
     "name": "stdout",
     "output_type": "stream",
     "text": [
      "accuracy: 84.24% \n",
      "\n",
      "error rate: 15.76%\n"
     ]
    }
   ],
   "source": [
    "accuracy = grid_search.best_score_ *100\n",
    "print(\"accuracy: {:.2f}% \\n\".format(accuracy) )\n",
    "\n",
    "error_rate = (1 - accuracy/100)*100\n",
    "print(\"error rate: {:.2f}%\".format(error_rate) )"
   ]
  },
  {
   "cell_type": "markdown",
   "id": "d2ed793a-f864-4826-8ad5-56b0372f8fba",
   "metadata": {},
   "source": [
    "### Evaluating the Classifier"
   ]
  },
  {
   "cell_type": "markdown",
   "id": "96096bbe-531a-4d76-af87-6c3a92ec2369",
   "metadata": {},
   "source": [
    "Since we don't have the testing labels (the Income for the testing dataset). We have to evaluate how well our classifier works through cross-validation."
   ]
  },
  {
   "cell_type": "code",
   "execution_count": 57,
   "id": "b984abc3-e3e4-4f6a-80e9-2baba9aa1fdf",
   "metadata": {},
   "outputs": [],
   "source": [
    "## Instantiate classifier with n_neighbors=23\n",
    "knn = KNeighborsClassifier(n_neighbors=23)\n",
    "\n",
    "## Defining the scores we want\n",
    "scoring = {'acc': 'accuracy', 'prec_macro': 'precision_macro', 'rec_macro': 'recall_macro', 'f1' : 'f1_macro'}\n",
    "\n",
    "## Fitting classifier to training set and evaluating through cross validation\n",
    "scores = cross_validate(knn, X_train, y_train.values.ravel(), scoring=scoring, cv=5)"
   ]
  },
  {
   "cell_type": "code",
   "execution_count": 58,
   "id": "9280faaf-88e2-40cb-9b59-c3e63749813a",
   "metadata": {},
   "outputs": [
    {
     "name": "stdout",
     "output_type": "stream",
     "text": [
      "accuracy: 84.24%\n",
      "error rate: 15.76% \n",
      "\n",
      "precision: 79.21%\n",
      "recall: 75.52%\n",
      "F1 score: 0.77\n"
     ]
    }
   ],
   "source": [
    "## Scores\n",
    "\n",
    "accuracy = scores['test_acc'].mean()*100\n",
    "print('accuracy: {:.2f}%'.format(accuracy))\n",
    "\n",
    "error_rate = (1 - accuracy/100)*100\n",
    "print('error rate: {:.2f}% \\n'.format(error_rate))\n",
    "\n",
    "precision = scores['test_prec_macro'].mean()*100\n",
    "print('precision: {:.2f}%'.format(precision))\n",
    "\n",
    "recall = scores['test_rec_macro'].mean()*100\n",
    "print('recall: {:.2f}%'.format(recall))\n",
    "\n",
    "f1_score = scores['test_f1'].mean()\n",
    "print('F1 score: {:.2f}'.format(f1_score))"
   ]
  },
  {
   "cell_type": "code",
   "execution_count": 59,
   "id": "41148efc-6f9a-4416-b908-15616b193f7d",
   "metadata": {},
   "outputs": [],
   "source": [
    "classifier_list.append('kNN')\n",
    "accuracy_list.append(accuracy)\n",
    "error_rate_list.append(error_rate)"
   ]
  },
  {
   "cell_type": "markdown",
   "id": "ca2835b8-8b92-4657-aad7-fe7f968d2273",
   "metadata": {},
   "source": [
    "## Classifier 1: SVM - Suppor Vector Machine"
   ]
  },
  {
   "cell_type": "code",
   "execution_count": 63,
   "id": "c71d553b-1ac0-4f87-860e-9db28db08e08",
   "metadata": {},
   "outputs": [],
   "source": [
    "## Imports\n",
    "\n",
    "from sklearn.svm import SVC"
   ]
  },
  {
   "cell_type": "markdown",
   "id": "ecdcbdc6-f2d0-41a6-abda-66337bbca1d4",
   "metadata": {},
   "source": [
    "### Fitting and Predicting"
   ]
  },
  {
   "cell_type": "code",
   "execution_count": 64,
   "id": "695620bb-03e3-4203-822e-5bda762d847b",
   "metadata": {},
   "outputs": [],
   "source": [
    "## Instantiate classifier with default hyperparameters\n",
    "\n",
    "svc = SVC()"
   ]
  },
  {
   "cell_type": "code",
   "execution_count": 65,
   "id": "17ee1168-7b41-4f19-bc38-7613d9c622c5",
   "metadata": {},
   "outputs": [
    {
     "data": {
      "text/plain": [
       "SVC()"
      ]
     },
     "execution_count": 65,
     "metadata": {},
     "output_type": "execute_result"
    }
   ],
   "source": [
    "## Fit classifier to training set\n",
    "\n",
    "svc.fit(X_train,y_train.values.ravel())"
   ]
  },
  {
   "cell_type": "code",
   "execution_count": 66,
   "id": "51bb8a7f-c92d-479b-8ddf-0852c7255ffc",
   "metadata": {},
   "outputs": [],
   "source": [
    "## Make predictions on test set\n",
    "\n",
    "# y_pred = svc.predict(X_test.iloc[:, test_df.columns != 'Id'])"
   ]
  },
  {
   "cell_type": "markdown",
   "id": "a4408903-0ac6-40b6-9605-5953e26b5877",
   "metadata": {},
   "source": [
    "### Evaluating the Classifier through Cross Validation"
   ]
  },
  {
   "cell_type": "code",
   "execution_count": 67,
   "id": "b90f20d1-ddcf-436d-8817-9a668ef86bcb",
   "metadata": {},
   "outputs": [],
   "source": [
    "## Instantiate classifier with default hyperparameters\n",
    "svc = SVC()\n",
    "\n",
    "## Defining the scores we want\n",
    "scoring = {'acc': 'accuracy', 'prec_macro': 'precision_macro', 'rec_macro': 'recall_macro', 'f1' : 'f1_macro'}\n",
    "\n",
    "## Fitting classifier to training set and evaluating through cross validation\n",
    "scores = cross_validate(svc, X_train, y_train.values.ravel(), scoring=scoring, cv=5)"
   ]
  },
  {
   "cell_type": "code",
   "execution_count": 68,
   "id": "84470a1f-c037-484e-801d-cdd88a513a60",
   "metadata": {},
   "outputs": [
    {
     "name": "stdout",
     "output_type": "stream",
     "text": [
      "accuracy: 84.52%\n",
      "error rate: 15.48% \n",
      "\n",
      "precision: 80.86%\n",
      "recall: 73.79%\n",
      "F1 score: 0.76\n"
     ]
    }
   ],
   "source": [
    "## Scores\n",
    "\n",
    "accuracy = scores['test_acc'].mean()*100\n",
    "print('accuracy: {:.2f}%'.format(accuracy))\n",
    "\n",
    "error_rate = (1 - accuracy/100)*100\n",
    "print('error rate: {:.2f}% \\n'.format(error_rate))\n",
    "\n",
    "precision = scores['test_prec_macro'].mean()*100\n",
    "print('precision: {:.2f}%'.format(precision))\n",
    "\n",
    "recall = scores['test_rec_macro'].mean()*100\n",
    "print('recall: {:.2f}%'.format(recall))\n",
    "\n",
    "f1_score = scores['test_f1'].mean()\n",
    "print('F1 score: {:.2f}'.format(f1_score))"
   ]
  },
  {
   "cell_type": "markdown",
   "id": "0cfbcf26-1162-4610-8ff0-b84bd6964f3b",
   "metadata": {},
   "source": [
    "### Tuning by searching for the best hyperparameters through GridSearch Cross Validation"
   ]
  },
  {
   "cell_type": "markdown",
   "id": "db84ba97-1826-400f-965e-bc73347ca55e",
   "metadata": {},
   "source": [
    "This was taking way too much time, therefore, we used a smaller range"
   ]
  },
  {
   "cell_type": "code",
   "execution_count": 158,
   "id": "7173412d-be28-40f8-983f-5f8b3f28499a",
   "metadata": {},
   "outputs": [],
   "source": [
    "# ## Instantiate classifier with default hyperparameters\n",
    "# svc = SVC()\n",
    "\n",
    "# ## Declare parameters for hyperparameter tuning\n",
    "# parameters = [ {'C':[1, 100], 'kernel':['linear']},\n",
    "#                {'C':[1, 100], 'kernel':['rbf'], 'gamma':[0.3, 0.7]},\n",
    "#                {'C':[1, 100,], 'kernel':['poly'], 'degree': [3] ,'gamma':[0.01, 0.05]} \n",
    "#               ]\n",
    "\n",
    "# ## Search for best hyperparameter\n",
    "# grid = GridSearchCV(estimator = svc, param_grid = parameters, scoring = 'accuracy', cv = 5, n_jobs = -1, verbose = 0, )\n",
    "\n",
    "# ## Fit\n",
    "# grid_search = grid.fit(X_train, y_train.values.ravel())"
   ]
  },
  {
   "cell_type": "code",
   "execution_count": 159,
   "id": "5e4b1073-3493-456a-90a1-5f9f5d0d95c6",
   "metadata": {},
   "outputs": [],
   "source": [
    "# ## Best score achieved during the GridSearchCV\n",
    "# print('GridSearch CV best score : {:.4f}\\n\\n'.format(grid_search.best_score_))\n",
    "\n",
    "# print('Parameters that give the best results :','\\n\\n', (grid_search.best_params_))\n",
    "\n",
    "# print('\\n\\nEstimator that was chosen by the search :','\\n\\n', (grid_search.best_estimator_))"
   ]
  },
  {
   "attachments": {
    "064e7154-d89c-4760-9548-0851a2f29314.png": {
     "image/png": "[encoded data removed]"
    }
   },
   "cell_type": "markdown",
   "id": "562d1d5f-91cd-4a5a-ab64-9789ef69e9b4",
   "metadata": {},
   "source": [
    "It took way too long to run this cell above, I'll comment it to upload faster, here is a screenshot of the output:\n",
    "\n",
    "![image.png](attachment:064e7154-d89c-4760-9548-0851a2f29314.png)"
   ]
  },
  {
   "cell_type": "markdown",
   "id": "4f4bfd63-0cd4-4b0c-adad-6478873c1be7",
   "metadata": {},
   "source": [
    "### Evaluating the Classifier"
   ]
  },
  {
   "cell_type": "code",
   "execution_count": 72,
   "id": "a800ae8e-a35a-4368-802f-defef023d88f",
   "metadata": {},
   "outputs": [],
   "source": [
    "svc = SVC(C=1, gamma=0.7, kernel='rbf')\n",
    "\n",
    "## Defining the scores\n",
    "scoring = {'acc': 'accuracy', 'prec_macro': 'precision_macro', 'rec_macro': 'recall_macro', 'f1' : 'f1_macro'}\n",
    "\n",
    "## Fitting classifier\n",
    "scores = cross_validate(svc, X_train, y_train.values.ravel(), scoring=scoring, cv=5)"
   ]
  },
  {
   "cell_type": "code",
   "execution_count": 73,
   "id": "44f922ab-a625-465c-8ada-81630be8929e",
   "metadata": {},
   "outputs": [
    {
     "name": "stdout",
     "output_type": "stream",
     "text": [
      "accuracy: 84.67%\n",
      "error rate: 15.33% \n",
      "\n",
      "precision: 80.32%\n",
      "recall: 75.24%\n",
      "F1 score: 0.77\n"
     ]
    }
   ],
   "source": [
    "## Scores\n",
    "\n",
    "accuracy = scores['test_acc'].mean()*100\n",
    "print('accuracy: {:.2f}%'.format(accuracy))\n",
    "\n",
    "error_rate = (1 - accuracy/100)*100\n",
    "print('error rate: {:.2f}% \\n'.format(error_rate))\n",
    "\n",
    "precision = scores['test_prec_macro'].mean()*100\n",
    "print('precision: {:.2f}%'.format(precision))\n",
    "\n",
    "recall = scores['test_rec_macro'].mean()*100\n",
    "print('recall: {:.2f}%'.format(recall))\n",
    "\n",
    "f1_score = scores['test_f1'].mean()\n",
    "print('F1 score: {:.2f}'.format(f1_score))"
   ]
  },
  {
   "cell_type": "code",
   "execution_count": 74,
   "id": "07faebf6-3bfa-4f01-ae3e-a7b0f947bc97",
   "metadata": {},
   "outputs": [],
   "source": [
    "classifier_list.append('SVM')\n",
    "accuracy_list.append(accuracy)\n",
    "error_rate_list.append(error_rate)"
   ]
  },
  {
   "cell_type": "markdown",
   "id": "67b8e667-1d7b-4fad-987c-a4fd2e8f5cb9",
   "metadata": {},
   "source": [
    "## Classifier 2: Logistic Regression"
   ]
  },
  {
   "cell_type": "code",
   "execution_count": 75,
   "id": "a4326d58-122b-44c1-9ae9-c3402fdba649",
   "metadata": {},
   "outputs": [],
   "source": [
    "## Imports\n",
    "\n",
    "from sklearn.linear_model import LogisticRegression"
   ]
  },
  {
   "cell_type": "markdown",
   "id": "4ee6ade6-6397-4e48-8851-59b79c255b8b",
   "metadata": {},
   "source": [
    "### Fitting and Predicting"
   ]
  },
  {
   "cell_type": "code",
   "execution_count": 76,
   "id": "0bfe5bdf-7cbc-423f-80cb-9d064fb48a81",
   "metadata": {},
   "outputs": [],
   "source": [
    "## Instantiate classifier with default hyperparameters\n",
    "\n",
    "logreg = LogisticRegression()"
   ]
  },
  {
   "cell_type": "code",
   "execution_count": 77,
   "id": "26d09d84-be95-47bb-be42-d8fca9300ac7",
   "metadata": {},
   "outputs": [
    {
     "data": {
      "text/plain": [
       "LogisticRegression()"
      ]
     },
     "execution_count": 77,
     "metadata": {},
     "output_type": "execute_result"
    }
   ],
   "source": [
    "## Fit classifier to training set\n",
    "\n",
    "logreg.fit(X_train, y_train.values.ravel())"
   ]
  },
  {
   "cell_type": "code",
   "execution_count": 78,
   "id": "591baf0c-62f7-4bab-b18e-8d4c52f72f99",
   "metadata": {},
   "outputs": [],
   "source": [
    "## Make predictions on test set\n",
    "\n",
    "# y_pred = logreg.predict(X_test.iloc[:, test_df.columns != 'Id'])"
   ]
  },
  {
   "cell_type": "markdown",
   "id": "d41b1315-f97c-4df1-9314-e50a2311f286",
   "metadata": {},
   "source": [
    "### Evaluating the Classifier through Cross-Validation"
   ]
  },
  {
   "cell_type": "code",
   "execution_count": 79,
   "id": "0cc04534-de67-43b0-9bf5-10b52c816a28",
   "metadata": {},
   "outputs": [],
   "source": [
    "## Instantiate classifier\n",
    "logreg = LogisticRegression()\n",
    "\n",
    "## Defining the scores\n",
    "scoring = {'acc': 'accuracy', 'prec_macro': 'precision_macro', 'rec_macro': 'recall_macro', 'f1' : 'f1_macro'}\n",
    "\n",
    "## Fiting classifier to training set and evaluating through cross validation\n",
    "scores = cross_validate(logreg, X_train, y_train.values.ravel(), scoring=scoring, cv=5)"
   ]
  },
  {
   "cell_type": "code",
   "execution_count": 80,
   "id": "6e7566e9-2a0d-4139-aa76-0506642fd493",
   "metadata": {},
   "outputs": [
    {
     "name": "stdout",
     "output_type": "stream",
     "text": [
      "accuracy: 81.89%\n",
      "error rate: 18.11% \n",
      "\n",
      "precision: 77.23%\n",
      "recall: 68.44%\n",
      "F1 score: 0.71\n"
     ]
    }
   ],
   "source": [
    "## Scores\n",
    "\n",
    "accuracy = scores['test_acc'].mean()*100\n",
    "print('accuracy: {:.2f}%'.format(accuracy))\n",
    "\n",
    "error_rate = (1 - accuracy/100)*100\n",
    "print('error rate: {:.2f}% \\n'.format(error_rate))\n",
    "\n",
    "precision = scores['test_prec_macro'].mean()*100\n",
    "print('precision: {:.2f}%'.format(precision))\n",
    "\n",
    "recall = scores['test_rec_macro'].mean()*100\n",
    "print('recall: {:.2f}%'.format(recall))\n",
    "\n",
    "f1_score = scores['test_f1'].mean()\n",
    "print('F1 score: {:.2f}'.format(f1_score))"
   ]
  },
  {
   "cell_type": "markdown",
   "id": "17e82d56-708a-4bba-b92a-63b16b964a65",
   "metadata": {},
   "source": [
    "### Tuning by searching for the best hyperparameters through GridSearch Cross Validation"
   ]
  },
  {
   "cell_type": "code",
   "execution_count": 81,
   "id": "59e3ac16-bf6f-4f06-ab59-89e8c841cbc8",
   "metadata": {},
   "outputs": [],
   "source": [
    "from sklearn import linear_model, decomposition, datasets\n",
    "from sklearn.pipeline import Pipeline"
   ]
  },
  {
   "cell_type": "code",
   "execution_count": 82,
   "id": "a025a98f-11bc-4ebe-aabc-22f6e26d28fe",
   "metadata": {},
   "outputs": [],
   "source": [
    "std_slc = StandardScaler()"
   ]
  },
  {
   "cell_type": "code",
   "execution_count": 83,
   "id": "481e9504-6e54-43be-8784-3008f490e997",
   "metadata": {},
   "outputs": [],
   "source": [
    "pca = decomposition.PCA()"
   ]
  },
  {
   "cell_type": "code",
   "execution_count": 84,
   "id": "b81106e7-ac26-4097-823f-1d51df47fbbe",
   "metadata": {},
   "outputs": [],
   "source": [
    "logreg = linear_model.LogisticRegression()"
   ]
  },
  {
   "cell_type": "code",
   "execution_count": 85,
   "id": "95d89c64-bc41-4b2f-936f-9734cb414c46",
   "metadata": {},
   "outputs": [],
   "source": [
    "pipe = Pipeline(steps=[('std_slc', std_slc),\n",
    "                           ('pca', pca),\n",
    "                           ('logreg', logreg)])"
   ]
  },
  {
   "cell_type": "code",
   "execution_count": 88,
   "id": "60f0de5e-dfd1-4fdd-b3f1-ab30f6fde250",
   "metadata": {},
   "outputs": [],
   "source": [
    "n_components = list(range(1,X_train.shape[1]+1,1))\n",
    "\n",
    "C = np.logspace(-4, 4, 50)\n",
    "\n",
    "penalty = ['l2']\n",
    "\n",
    "parameters = dict(pca__n_components=n_components,\n",
    "                      logreg__C=C,\n",
    "                      logreg__penalty=penalty)"
   ]
  },
  {
   "cell_type": "code",
   "execution_count": 89,
   "id": "e9872b4b-bd92-449a-9ea4-b8b779cdda6f",
   "metadata": {},
   "outputs": [
    {
     "data": {
      "text/plain": [
       "GridSearchCV(estimator=Pipeline(steps=[('std_slc', StandardScaler()),\n",
       "                                       ('pca', PCA()),\n",
       "                                       ('logreg', LogisticRegression())]),\n",
       "             param_grid={'logreg__C': array([1.00000000e-04, 1.45634848e-04, 2.12095089e-04, 3.08884360e-04,\n",
       "       4.49843267e-04, 6.55128557e-04, 9.54095476e-04, 1.38949549e-03,\n",
       "       2.02358965e-03, 2.94705170e-03, 4.29193426e-03, 6.25055193e-03,\n",
       "       9.10298178e-03, 1.325711...\n",
       "       3.72759372e+00, 5.42867544e+00, 7.90604321e+00, 1.15139540e+01,\n",
       "       1.67683294e+01, 2.44205309e+01, 3.55648031e+01, 5.17947468e+01,\n",
       "       7.54312006e+01, 1.09854114e+02, 1.59985872e+02, 2.32995181e+02,\n",
       "       3.39322177e+02, 4.94171336e+02, 7.19685673e+02, 1.04811313e+03,\n",
       "       1.52641797e+03, 2.22299648e+03, 3.23745754e+03, 4.71486636e+03,\n",
       "       6.86648845e+03, 1.00000000e+04]),\n",
       "                         'logreg__penalty': ['l2'],\n",
       "                         'pca__n_components': [1, 2, 3, 4, 5, 6, 7, 8, 9]})"
      ]
     },
     "execution_count": 89,
     "metadata": {},
     "output_type": "execute_result"
    }
   ],
   "source": [
    "clf_GS = GridSearchCV(pipe, parameters)\n",
    "\n",
    "clf_GS.fit(X_train, y_train.values.ravel())"
   ]
  },
  {
   "cell_type": "code",
   "execution_count": 92,
   "id": "94aa55ef-9a61-4aef-90e2-014e646c60e7",
   "metadata": {},
   "outputs": [
    {
     "name": "stdout",
     "output_type": "stream",
     "text": [
      "Best C: 0.12648552168552957\n",
      "Best Number Of Components: 9\n",
      "\n",
      "LogisticRegression(C=0.12648552168552957)\n"
     ]
    }
   ],
   "source": [
    "print('Best C:', clf_GS.best_estimator_.get_params()['logreg__C'])\n",
    "print('Best Number Of Components:', clf_GS.best_estimator_.get_params()['pca__n_components'])\n",
    "print(); print(clf_GS.best_estimator_.get_params()['logreg'])"
   ]
  },
  {
   "cell_type": "markdown",
   "id": "bc72d00f-ead6-4cc0-849e-562c3e20770c",
   "metadata": {},
   "source": [
    "### Evaluating the Classifier"
   ]
  },
  {
   "cell_type": "code",
   "execution_count": 96,
   "id": "5a210a3a-0a88-4889-bd8c-1de26f139dc8",
   "metadata": {},
   "outputs": [],
   "source": [
    "## Instantiate classifier with default hyperparameters\n",
    "logreg = LogisticRegression()\n",
    "\n",
    "## Defining the scores we want\n",
    "scoring = {'acc': 'accuracy', 'prec_macro': 'precision_macro', 'rec_macro': 'recall_macro', 'f1' : 'f1_macro'}\n",
    "\n",
    "## Fiting classifier to training set and evaluating through cross validation\n",
    "scores = cross_validate(clf_GS.best_estimator_, X_train, y_train.values.ravel(), scoring=scoring, cv=5)"
   ]
  },
  {
   "cell_type": "code",
   "execution_count": 97,
   "id": "f9c4c889-cce8-4f72-aa9b-e7e7b41dd9ec",
   "metadata": {},
   "outputs": [
    {
     "name": "stdout",
     "output_type": "stream",
     "text": [
      "accuracy: 81.92%\n",
      "error rate: 18.08% \n",
      "\n",
      "precision: 77.31%\n",
      "recall: 68.44%\n",
      "F1 score: 0.71\n"
     ]
    }
   ],
   "source": [
    "## Scores\n",
    "\n",
    "accuracy = scores['test_acc'].mean()*100\n",
    "print('accuracy: {:.2f}%'.format(accuracy))\n",
    "\n",
    "error_rate = (1 - accuracy/100)*100\n",
    "print('error rate: {:.2f}% \\n'.format(error_rate))\n",
    "\n",
    "precision = scores['test_prec_macro'].mean()*100\n",
    "print('precision: {:.2f}%'.format(precision))\n",
    "\n",
    "recall = scores['test_rec_macro'].mean()*100\n",
    "print('recall: {:.2f}%'.format(recall))\n",
    "\n",
    "f1_score = scores['test_f1'].mean()\n",
    "print('F1 score: {:.2f}'.format(f1_score))"
   ]
  },
  {
   "cell_type": "code",
   "execution_count": 95,
   "id": "50671fe8-858d-41ae-874e-25d19a64db81",
   "metadata": {},
   "outputs": [],
   "source": [
    "classifier_list.append('Logistic Regression')\n",
    "accuracy_list.append(accuracy)\n",
    "error_rate_list.append(error_rate)"
   ]
  },
  {
   "cell_type": "markdown",
   "id": "67170f71-a169-4bab-889d-891551c85c08",
   "metadata": {},
   "source": [
    "## Classifier 3: Random Forest"
   ]
  },
  {
   "cell_type": "code",
   "execution_count": 107,
   "id": "7d0ce06a-82cb-412c-847a-3651de0ff535",
   "metadata": {},
   "outputs": [],
   "source": [
    "## Imports\n",
    "\n",
    "from sklearn.ensemble import RandomForestClassifier, RandomForestRegressor"
   ]
  },
  {
   "cell_type": "markdown",
   "id": "3f6aaff9-e777-4f2e-8a1b-d7eb63a8b068",
   "metadata": {},
   "source": [
    "### Fitting and Predicting"
   ]
  },
  {
   "cell_type": "code",
   "execution_count": 108,
   "id": "22d52175-0b02-41ae-93d1-f8be68f8a045",
   "metadata": {},
   "outputs": [],
   "source": [
    "## Instantiate classifier with default hyperparameters\n",
    "\n",
    "randforest = RandomForestClassifier(n_estimators=100)"
   ]
  },
  {
   "cell_type": "code",
   "execution_count": 109,
   "id": "c99908e7-0086-4aff-906f-9fc8b1ec3f38",
   "metadata": {},
   "outputs": [
    {
     "data": {
      "text/plain": [
       "RandomForestClassifier()"
      ]
     },
     "execution_count": 109,
     "metadata": {},
     "output_type": "execute_result"
    }
   ],
   "source": [
    "## Fit classifier to training set\n",
    "\n",
    "randforest.fit(X_train,y_train.values.ravel())"
   ]
  },
  {
   "cell_type": "code",
   "execution_count": 110,
   "id": "58c40cc2-9960-42f1-8b04-068a0355fee6",
   "metadata": {},
   "outputs": [],
   "source": [
    "## Make predictions on test set\n",
    "\n",
    "# y_pred = randforest.predict(X_test.iloc[:, test_df.columns != 'Id'])"
   ]
  },
  {
   "cell_type": "markdown",
   "id": "0eec3ceb-2b3c-4724-b450-51affa219dde",
   "metadata": {},
   "source": [
    "### Evaluating the Classifier through Cross-Validation"
   ]
  },
  {
   "cell_type": "code",
   "execution_count": 111,
   "id": "bdf95e04-a509-4a35-aa7d-9689d96fab33",
   "metadata": {},
   "outputs": [],
   "source": [
    "## Instantiate classifier with default hyperparameters\n",
    "randforest = RandomForestClassifier(n_estimators=100)\n",
    "\n",
    "## Defining the scores we want\n",
    "scoring = {'acc': 'accuracy', 'prec_macro': 'precision_macro', 'rec_macro': 'recall_macro', 'f1' : 'f1_macro'}\n",
    "\n",
    "## Fiting classifier to training set and evaluating through cross validation\n",
    "scores = cross_validate(randforest, X_train, y_train.values.ravel(), scoring=scoring, cv=5)"
   ]
  },
  {
   "cell_type": "code",
   "execution_count": 112,
   "id": "8a919324-ad76-4d5b-8c7b-50ef76d989ec",
   "metadata": {},
   "outputs": [
    {
     "name": "stdout",
     "output_type": "stream",
     "text": [
      "accuracy: 83.75%\n",
      "error rate: 16.25% \n",
      "\n",
      "precision: 78.18%\n",
      "recall: 75.69%\n",
      "F1 score: 0.77\n"
     ]
    }
   ],
   "source": [
    "## Scores\n",
    "\n",
    "accuracy = scores['test_acc'].mean()*100\n",
    "print('accuracy: {:.2f}%'.format(accuracy))\n",
    "\n",
    "error_rate = (1 - accuracy/100)*100\n",
    "print('error rate: {:.2f}% \\n'.format(error_rate))\n",
    "\n",
    "precision = scores['test_prec_macro'].mean()*100\n",
    "print('precision: {:.2f}%'.format(precision))\n",
    "\n",
    "recall = scores['test_rec_macro'].mean()*100\n",
    "print('recall: {:.2f}%'.format(recall))\n",
    "\n",
    "f1_score = scores['test_f1'].mean()\n",
    "print('F1 score: {:.2f}'.format(f1_score))"
   ]
  },
  {
   "cell_type": "markdown",
   "id": "ea6acac7-b6c7-4f86-8b76-2f8e44e80aaa",
   "metadata": {},
   "source": [
    "### Tuning by searching for the best hyperparameters through GridSearch Cross Validation"
   ]
  },
  {
   "cell_type": "code",
   "execution_count": 115,
   "id": "21713e4d-e0d0-4658-aba1-cd2124620681",
   "metadata": {},
   "outputs": [],
   "source": [
    "# Create the parameter grid based on the results of random search \n",
    "param_grid = {\n",
    "    'bootstrap': [True],\n",
    "    'max_depth': [80, 110],\n",
    "    'max_features': [2, 3],\n",
    "    'min_samples_leaf': [3, 5],\n",
    "    'min_samples_split': [8, 12],\n",
    "    'n_estimators': [100, 1000]\n",
    "}\n",
    "\n",
    "# Create a based model\n",
    "rf = RandomForestRegressor()\n",
    "\n",
    "# Instantiate the grid search model\n",
    "grid_search = GridSearchCV(estimator = rf, param_grid = param_grid, \n",
    "                          cv = 3, n_jobs = -1, verbose = 2)"
   ]
  },
  {
   "cell_type": "code",
   "execution_count": 116,
   "id": "127293d2-894e-41d0-85f8-237ce5516959",
   "metadata": {},
   "outputs": [
    {
     "name": "stdout",
     "output_type": "stream",
     "text": [
      "Fitting 3 folds for each of 32 candidates, totalling 96 fits\n"
     ]
    },
    {
     "data": {
      "text/plain": [
       "GridSearchCV(cv=3, estimator=RandomForestRegressor(), n_jobs=-1,\n",
       "             param_grid={'bootstrap': [True], 'max_depth': [80, 110],\n",
       "                         'max_features': [2, 3], 'min_samples_leaf': [3, 5],\n",
       "                         'min_samples_split': [8, 12],\n",
       "                         'n_estimators': [100, 1000]},\n",
       "             verbose=2)"
      ]
     },
     "execution_count": 116,
     "metadata": {},
     "output_type": "execute_result"
    }
   ],
   "source": [
    "# Fit the grid search to the data\n",
    "grid_search.fit(X_train, y_train.values.ravel())"
   ]
  },
  {
   "cell_type": "code",
   "execution_count": 117,
   "id": "9fde9d0f-d48d-4d02-8ba1-4494fbda5db3",
   "metadata": {},
   "outputs": [
    {
     "data": {
      "text/plain": [
       "{'bootstrap': True,\n",
       " 'max_depth': 110,\n",
       " 'max_features': 2,\n",
       " 'min_samples_leaf': 5,\n",
       " 'min_samples_split': 12,\n",
       " 'n_estimators': 1000}"
      ]
     },
     "execution_count": 117,
     "metadata": {},
     "output_type": "execute_result"
    }
   ],
   "source": [
    "grid_search.best_params_"
   ]
  },
  {
   "cell_type": "code",
   "execution_count": 118,
   "id": "f5c1c07b-6fd6-448e-81d8-9c9ee7cac98c",
   "metadata": {},
   "outputs": [],
   "source": [
    "best_grid = grid_search.best_estimator_"
   ]
  },
  {
   "cell_type": "markdown",
   "id": "34d656d8-4ffe-4b09-8c1f-e717626c4691",
   "metadata": {},
   "source": [
    "### Evaluating the Classifier"
   ]
  },
  {
   "cell_type": "code",
   "execution_count": 124,
   "id": "987912f8-3a25-45a7-bb28-ca51314b7991",
   "metadata": {},
   "outputs": [],
   "source": [
    "rf = RandomForestClassifier(bootstrap=True, max_depth=110, max_features=2, min_samples_leaf=5, min_samples_split=12, n_estimators=1000)\n",
    "\n",
    "## Defining the scores we want\n",
    "scoring = {'acc': 'accuracy', 'prec_macro': 'precision_macro', 'rec_macro': 'recall_macro', 'f1' : 'f1_macro'}\n",
    "\n",
    "## Fiting classifier to training set and evaluating through cross validation\n",
    "scores = cross_validate(rf, X_train, y_train.values.ravel(), scoring=scoring, cv=5, n_jobs=-1)"
   ]
  },
  {
   "cell_type": "code",
   "execution_count": 125,
   "id": "057fba3d-9786-41b2-83b6-8ab5bc0404f7",
   "metadata": {},
   "outputs": [
    {
     "name": "stdout",
     "output_type": "stream",
     "text": [
      "accuracy: 85.84%\n",
      "error rate: 14.16% \n",
      "\n",
      "precision: 82.08%\n",
      "recall: 77.09%\n",
      "F1 score: 0.79\n"
     ]
    }
   ],
   "source": [
    "## Scores\n",
    "\n",
    "accuracy = scores['test_acc'].mean()*100\n",
    "print('accuracy: {:.2f}%'.format(accuracy))\n",
    "\n",
    "error_rate = (1 - accuracy/100)*100\n",
    "print('error rate: {:.2f}% \\n'.format(error_rate))\n",
    "\n",
    "precision = scores['test_prec_macro'].mean()*100\n",
    "print('precision: {:.2f}%'.format(precision))\n",
    "\n",
    "recall = scores['test_rec_macro'].mean()*100\n",
    "print('recall: {:.2f}%'.format(recall))\n",
    "\n",
    "f1_score = scores['test_f1'].mean()\n",
    "print('F1 score: {:.2f}'.format(f1_score))"
   ]
  },
  {
   "cell_type": "code",
   "execution_count": 135,
   "id": "213f343d-4a47-4d99-bdaf-7076c49c616e",
   "metadata": {},
   "outputs": [],
   "source": [
    "classifier_list.append('Random Forest')\n",
    "accuracy_list.append(accuracy)\n",
    "error_rate_list.append(error_rate)"
   ]
  },
  {
   "cell_type": "markdown",
   "id": "4198b00b-8422-4ea6-8555-6b10caed0ddc",
   "metadata": {},
   "source": [
    "## Classifier 4: Boosting"
   ]
  },
  {
   "cell_type": "markdown",
   "id": "31960f0b-9fed-44f6-bcf1-0fc6560410bd",
   "metadata": {},
   "source": [
    "First, we need to install xgboost, either with *pip* or *conda*:\n",
    "\n",
    "*# pip*\n",
    "\n",
    "\"pip install xgboost\"\n",
    "\n",
    "**or**\n",
    "\n",
    "*# conda*\n",
    "\n",
    "\"conda install -c conda-forge xgboost\""
   ]
  },
  {
   "cell_type": "code",
   "execution_count": 139,
   "id": "dadeac43-de15-4aed-8453-3589386e9d8c",
   "metadata": {},
   "outputs": [],
   "source": [
    "## Imports\n",
    "\n",
    "import xgboost as xgb\n",
    "from sklearn.model_selection import GridSearchCV"
   ]
  },
  {
   "cell_type": "markdown",
   "id": "33a86a67-1fe3-4333-80e2-a744c4db6e5b",
   "metadata": {},
   "source": [
    "### Fitting and Predicting"
   ]
  },
  {
   "cell_type": "code",
   "execution_count": 140,
   "id": "7e9e3f1a-7d7a-4b73-8d87-c707d8b5a81e",
   "metadata": {},
   "outputs": [],
   "source": [
    "## Instantiate classifier with default hyperparameters\n",
    "\n",
    "xgb_cl = xgb.XGBClassifier()"
   ]
  },
  {
   "cell_type": "code",
   "execution_count": 141,
   "id": "01a29241-d449-4926-a3db-8c6e3297b133",
   "metadata": {},
   "outputs": [
    {
     "data": {
      "text/plain": [
       "XGBClassifier(base_score=0.5, booster='gbtree', callbacks=None,\n",
       "              colsample_bylevel=1, colsample_bynode=1, colsample_bytree=1,\n",
       "              early_stopping_rounds=None, enable_categorical=False,\n",
       "              eval_metric=None, feature_types=None, gamma=0, gpu_id=-1,\n",
       "              grow_policy='depthwise', importance_type=None,\n",
       "              interaction_constraints='', learning_rate=0.300000012,\n",
       "              max_bin=256, max_cat_threshold=64, max_cat_to_onehot=4,\n",
       "              max_delta_step=0, max_depth=6, max_leaves=0, min_child_weight=1,\n",
       "              missing=nan, monotone_constraints='()', n_estimators=100,\n",
       "              n_jobs=0, num_parallel_tree=1, predictor='auto', random_state=0, ...)"
      ]
     },
     "execution_count": 141,
     "metadata": {},
     "output_type": "execute_result"
    }
   ],
   "source": [
    "## Fit classifier to training set\n",
    "\n",
    "xgb_cl.fit(X_train, y_train.values.ravel())"
   ]
  },
  {
   "cell_type": "code",
   "execution_count": 142,
   "id": "d93c39d6-292e-4cb1-95da-961c9679505a",
   "metadata": {},
   "outputs": [],
   "source": [
    "## Make predictions on test set\n",
    "\n",
    "# y_pred = xgb_cl.predict(X_test.iloc[:, test_df.columns != 'Id'])"
   ]
  },
  {
   "cell_type": "markdown",
   "id": "4f9d86b0-0481-4c68-9818-98bd448b6a57",
   "metadata": {},
   "source": [
    "### Evaluating the Classifier through Cross-Validation"
   ]
  },
  {
   "cell_type": "code",
   "execution_count": 143,
   "id": "f413fd31-d859-4e39-9e5e-7371b06eae95",
   "metadata": {},
   "outputs": [],
   "source": [
    "## Instantiate classifier with default hyperparameters\n",
    "xgb_cl = xgb.XGBClassifier()\n",
    "\n",
    "## Defining the scores we want\n",
    "scoring = {'acc': 'accuracy', 'prec_macro': 'precision_macro', 'rec_macro': 'recall_macro', 'f1' : 'f1_macro'}\n",
    "\n",
    "## Fiting classifier to training set and evaluating through cross validation\n",
    "scores = cross_validate(xgb_cl, X_train, y_train.values.ravel(), scoring=scoring, cv=5)"
   ]
  },
  {
   "cell_type": "code",
   "execution_count": 144,
   "id": "c498d2ff-f2db-41dd-bcf7-e126a7e24ca5",
   "metadata": {},
   "outputs": [
    {
     "name": "stdout",
     "output_type": "stream",
     "text": [
      "accuracy: 86.30%\n",
      "error rate: 13.70% \n",
      "\n",
      "precision: 82.16%\n",
      "recall: 78.86%\n",
      "F1 score: 0.80\n"
     ]
    }
   ],
   "source": [
    "## Scores\n",
    "\n",
    "accuracy = scores['test_acc'].mean()*100\n",
    "print('accuracy: {:.2f}%'.format(accuracy))\n",
    "\n",
    "error_rate = (1 - accuracy/100)*100\n",
    "print('error rate: {:.2f}% \\n'.format(error_rate))\n",
    "\n",
    "precision = scores['test_prec_macro'].mean()*100\n",
    "print('precision: {:.2f}%'.format(precision))\n",
    "\n",
    "recall = scores['test_rec_macro'].mean()*100\n",
    "print('recall: {:.2f}%'.format(recall))\n",
    "\n",
    "f1_score = scores['test_f1'].mean()\n",
    "print('F1 score: {:.2f}'.format(f1_score))"
   ]
  },
  {
   "cell_type": "markdown",
   "id": "e5c240da-1bd1-4852-888f-ebd98540e91e",
   "metadata": {},
   "source": [
    "### Tuning by searching for the best hyperparameters through GridSearch Cross Validation"
   ]
  },
  {
   "cell_type": "markdown",
   "id": "2239f29a-a5f4-4186-97fa-7e6330caa802",
   "metadata": {},
   "source": [
    "Let's start by creating a parameter grid"
   ]
  },
  {
   "cell_type": "code",
   "execution_count": 145,
   "id": "47e6cb2b-c5f5-41c8-b86b-d209cb96aef0",
   "metadata": {},
   "outputs": [],
   "source": [
    "param_grid = {\n",
    "    \"max_depth\": [3, 4, 5, 7],\n",
    "    \"learning_rate\": [0.1, 0.01, 0.05],\n",
    "    \"gamma\": [0, 0.25, 1],\n",
    "    \"reg_lambda\": [0, 1, 10],\n",
    "    \"scale_pos_weight\": [1, 3, 5],\n",
    "    \"subsample\": [0.8],\n",
    "    \"colsample_bytree\": [0.5],\n",
    "}"
   ]
  },
  {
   "cell_type": "markdown",
   "id": "3ea5d54c-4d0d-4d01-8a17-9fb771f420c8",
   "metadata": {},
   "source": [
    "In the grid, I fixed subsample and colsample_bytree to recommended values to speed things up and prevent overfitting."
   ]
  },
  {
   "cell_type": "code",
   "execution_count": 146,
   "id": "e3aa320b-be1a-45c7-8af2-7a72b41a3a34",
   "metadata": {},
   "outputs": [],
   "source": [
    "# Init classifier\n",
    "xgb_cl = xgb.XGBClassifier(objective=\"binary:logistic\")\n",
    "\n",
    "# Init Grid Search\n",
    "grid_cv = GridSearchCV(xgb_cl, param_grid, n_jobs=-1, cv=3, scoring=\"roc_auc\")\n",
    "\n",
    "# Fit\n",
    "_ = grid_cv.fit(X_train, y_train.values.ravel())"
   ]
  },
  {
   "cell_type": "markdown",
   "id": "5b13a86e-5f68-4cd6-9a5b-8e8d84d2f934",
   "metadata": {},
   "source": [
    "We finally got the best params and best score"
   ]
  },
  {
   "cell_type": "code",
   "execution_count": 147,
   "id": "db7a25cd-ece5-43b6-8ae4-c9fba257189e",
   "metadata": {},
   "outputs": [
    {
     "data": {
      "text/plain": [
       "0.9191804367970965"
      ]
     },
     "execution_count": 147,
     "metadata": {},
     "output_type": "execute_result"
    }
   ],
   "source": [
    "grid_cv.best_score_"
   ]
  },
  {
   "cell_type": "code",
   "execution_count": 148,
   "id": "2b055f01-f64b-4234-9267-cec9724da940",
   "metadata": {},
   "outputs": [
    {
     "data": {
      "text/plain": [
       "{'colsample_bytree': 0.5,\n",
       " 'gamma': 0,\n",
       " 'learning_rate': 0.1,\n",
       " 'max_depth': 5,\n",
       " 'reg_lambda': 0,\n",
       " 'scale_pos_weight': 1,\n",
       " 'subsample': 0.8}"
      ]
     },
     "execution_count": 148,
     "metadata": {},
     "output_type": "execute_result"
    }
   ],
   "source": [
    "grid_cv.best_params_"
   ]
  },
  {
   "cell_type": "markdown",
   "id": "4e043081-bb32-4478-b7e1-9b41bc7e5762",
   "metadata": {},
   "source": [
    "Let's create a final classifier with the above parameters:"
   ]
  },
  {
   "cell_type": "code",
   "execution_count": 149,
   "id": "fc6d62ed-952e-49ce-87b7-b44b46ea4b56",
   "metadata": {},
   "outputs": [],
   "source": [
    "final_boost = xgb.XGBClassifier(\n",
    "    **grid_cv.best_params_,\n",
    "    objective=\"binary:logistic\"\n",
    ")"
   ]
  },
  {
   "cell_type": "markdown",
   "id": "96349b0e-8ade-4afa-b6a5-306f3e9bc8f0",
   "metadata": {},
   "source": [
    "### Evaluating the Classifier"
   ]
  },
  {
   "cell_type": "code",
   "execution_count": 151,
   "id": "90488d99-6793-4856-9634-e9ff79f3491f",
   "metadata": {},
   "outputs": [],
   "source": [
    "## Defining the scores we want\n",
    "scoring = {'acc': 'accuracy', 'prec_macro': 'precision_macro', 'rec_macro': 'recall_macro', 'f1' : 'f1_macro'}\n",
    "\n",
    "## Fiting classifier to training set and evaluating through cross validation\n",
    "scores = cross_validate(final_boost, X_train, y_train.values.ravel(), scoring=scoring, cv=5)"
   ]
  },
  {
   "cell_type": "code",
   "execution_count": 152,
   "id": "a5a8477b-6b3f-48e3-8ccd-7fb27617e18d",
   "metadata": {},
   "outputs": [
    {
     "name": "stdout",
     "output_type": "stream",
     "text": [
      "accuracy: 86.57%\n",
      "error rate: 13.43% \n",
      "\n",
      "precision: 83.02%\n",
      "recall: 78.50%\n",
      "F1 score: 0.80\n"
     ]
    }
   ],
   "source": [
    "## Scores\n",
    "\n",
    "accuracy = scores['test_acc'].mean()*100\n",
    "print('accuracy: {:.2f}%'.format(accuracy))\n",
    "\n",
    "error_rate = (1 - accuracy/100)*100\n",
    "print('error rate: {:.2f}% \\n'.format(error_rate))\n",
    "\n",
    "precision = scores['test_prec_macro'].mean()*100\n",
    "print('precision: {:.2f}%'.format(precision))\n",
    "\n",
    "recall = scores['test_rec_macro'].mean()*100\n",
    "print('recall: {:.2f}%'.format(recall))\n",
    "\n",
    "f1_score = scores['test_f1'].mean()\n",
    "print('F1 score: {:.2f}'.format(f1_score))"
   ]
  },
  {
   "cell_type": "code",
   "execution_count": 153,
   "id": "3b7497a0-8486-472f-ae7b-a246e959bbad",
   "metadata": {},
   "outputs": [],
   "source": [
    "classifier_list.append('Boosting')\n",
    "accuracy_list.append(accuracy)\n",
    "error_rate_list.append(error_rate)"
   ]
  },
  {
   "cell_type": "markdown",
   "id": "3ae8887c-aec6-4fb8-b8a1-b66a6ba390c6",
   "metadata": {},
   "source": [
    "# Comparing Classifiers"
   ]
  },
  {
   "cell_type": "code",
   "execution_count": 154,
   "id": "c0b3eb85-d243-43a8-898a-519dab9f1059",
   "metadata": {},
   "outputs": [
    {
     "name": "stdout",
     "output_type": "stream",
     "text": [
      "The classifier: kNN has an accuracy: 84.24% and an error rate: 15.76%\n",
      "The classifier: SVM has an accuracy: 84.67% and an error rate: 15.33%\n",
      "The classifier: Logistic Regression has an accuracy: 81.92% and an error rate: 18.08%\n",
      "The classifier: Random Forest has an accuracy: 85.84% and an error rate: 14.16%\n",
      "The classifier: Boosting has an accuracy: 86.57% and an error rate: 13.43%\n"
     ]
    }
   ],
   "source": [
    "for i in range(len(classifier_list)):\n",
    "    print('The classifier:', classifier_list[i], 'has an accuracy: {:.2f}%'.format(accuracy_list[i]), 'and an error rate: {:.2f}%'.format(error_rate_list[i]))"
   ]
  },
  {
   "cell_type": "markdown",
   "id": "8c59034d-ef33-4599-9496-ae0365b72a16",
   "metadata": {},
   "source": [
    "The best classifier is the \"Boosting\"! (YAY \\o/)"
   ]
  },
  {
   "cell_type": "markdown",
   "id": "66aaa902-bbbc-45fd-91db-e2eb6ee5d046",
   "metadata": {},
   "source": [
    "# The Best Classifier"
   ]
  },
  {
   "cell_type": "code",
   "execution_count": 155,
   "id": "fadb9fc6-5a75-4145-a128-fbc9a685b3e2",
   "metadata": {},
   "outputs": [],
   "source": [
    "## Fitting the Best Classifier\n",
    "\n",
    "_ = final_boost.fit(X_train, y_train.values.ravel())\n",
    "\n",
    "y_pred = final_boost.predict(X_test.iloc[:, test_df.columns != 'Id'])"
   ]
  },
  {
   "cell_type": "code",
   "execution_count": 156,
   "id": "216d83a0-2cf5-408f-9eec-3e35f4379fb6",
   "metadata": {},
   "outputs": [],
   "source": [
    "Y_pred = pd.DataFrame(columns = [\"Id\",\"income\"])\n",
    "\n",
    "Y_pred.Id = test_df.iloc[:, test_df.columns == 'Id']\n",
    "Y_pred.income = y_pred\n",
    "Y_pred.income = Y_pred.income.replace(0, '<=50K')\n",
    "Y_pred.income = Y_pred.income.replace(1, '>50K')\n",
    "Y_pred.to_csv(\"submission.csv\", index=False)"
   ]
  },
  {
   "cell_type": "code",
   "execution_count": 157,
   "id": "0b147c0e-b799-4b4f-9673-1165f592d196",
   "metadata": {},
   "outputs": [
    {
     "data": {
      "text/html": [
       "<div>\n",
       "<style scoped>\n",
       "    .dataframe tbody tr th:only-of-type {\n",
       "        vertical-align: middle;\n",
       "    }\n",
       "\n",
       "    .dataframe tbody tr th {\n",
       "        vertical-align: top;\n",
       "    }\n",
       "\n",
       "    .dataframe thead th {\n",
       "        text-align: right;\n",
       "    }\n",
       "</style>\n",
       "<table border=\"1\" class=\"dataframe\">\n",
       "  <thead>\n",
       "    <tr style=\"text-align: right;\">\n",
       "      <th></th>\n",
       "      <th>Id</th>\n",
       "      <th>income</th>\n",
       "    </tr>\n",
       "  </thead>\n",
       "  <tbody>\n",
       "    <tr>\n",
       "      <th>0</th>\n",
       "      <td>0</td>\n",
       "      <td>&lt;=50K</td>\n",
       "    </tr>\n",
       "    <tr>\n",
       "      <th>1</th>\n",
       "      <td>1</td>\n",
       "      <td>&gt;50K</td>\n",
       "    </tr>\n",
       "    <tr>\n",
       "      <th>2</th>\n",
       "      <td>2</td>\n",
       "      <td>&lt;=50K</td>\n",
       "    </tr>\n",
       "    <tr>\n",
       "      <th>3</th>\n",
       "      <td>3</td>\n",
       "      <td>&lt;=50K</td>\n",
       "    </tr>\n",
       "    <tr>\n",
       "      <th>4</th>\n",
       "      <td>4</td>\n",
       "      <td>&gt;50K</td>\n",
       "    </tr>\n",
       "    <tr>\n",
       "      <th>...</th>\n",
       "      <td>...</td>\n",
       "      <td>...</td>\n",
       "    </tr>\n",
       "    <tr>\n",
       "      <th>16275</th>\n",
       "      <td>16275</td>\n",
       "      <td>&lt;=50K</td>\n",
       "    </tr>\n",
       "    <tr>\n",
       "      <th>16276</th>\n",
       "      <td>16276</td>\n",
       "      <td>&lt;=50K</td>\n",
       "    </tr>\n",
       "    <tr>\n",
       "      <th>16277</th>\n",
       "      <td>16277</td>\n",
       "      <td>&lt;=50K</td>\n",
       "    </tr>\n",
       "    <tr>\n",
       "      <th>16278</th>\n",
       "      <td>16278</td>\n",
       "      <td>&lt;=50K</td>\n",
       "    </tr>\n",
       "    <tr>\n",
       "      <th>16279</th>\n",
       "      <td>16279</td>\n",
       "      <td>&gt;50K</td>\n",
       "    </tr>\n",
       "  </tbody>\n",
       "</table>\n",
       "<p>16280 rows × 2 columns</p>\n",
       "</div>"
      ],
      "text/plain": [
       "          Id income\n",
       "0          0  <=50K\n",
       "1          1   >50K\n",
       "2          2  <=50K\n",
       "3          3  <=50K\n",
       "4          4   >50K\n",
       "...      ...    ...\n",
       "16275  16275  <=50K\n",
       "16276  16276  <=50K\n",
       "16277  16277  <=50K\n",
       "16278  16278  <=50K\n",
       "16279  16279   >50K\n",
       "\n",
       "[16280 rows x 2 columns]"
      ]
     },
     "execution_count": 157,
     "metadata": {},
     "output_type": "execute_result"
    }
   ],
   "source": [
    "Y_pred"
   ]
  }
 ],
 "metadata": {
  "kernelspec": {
   "display_name": "Python 3 (ipykernel)",
   "language": "python",
   "name": "python3"
  },
  "language_info": {
   "codemirror_mode": {
    "name": "ipython",
    "version": 3
   },
   "file_extension": ".py",
   "mimetype": "text/x-python",
   "name": "python",
   "nbconvert_exporter": "python",
   "pygments_lexer": "ipython3",
   "version": "3.9.7"
  }
 },
 "nbformat": 4,
 "nbformat_minor": 5
}
