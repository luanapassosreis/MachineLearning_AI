{
 "cells": [
  {
   "cell_type": "code",
   "execution_count": null,
   "id": "f0034081-270a-49c1-a7a4-16f27b364c41",
   "metadata": {},
   "outputs": [],
   "source": [
    "# Carregando bibliotecas básicas\n",
    "import numpy as np\n",
    "import pandas as pd\n",
    "import matplotlib.pyplot as plt\n",
    "import seaborn as sns\n",
    "import tensorflow as tf\n",
    "import scipy\n",
    "import sklearn"
   ]
  },
  {
   "cell_type": "code",
   "execution_count": null,
   "id": "4d591d71-e5b9-4777-ae08-7ba26f9117c3",
   "metadata": {},
   "outputs": [],
   "source": [
    "# Testando as bibliotecas\n",
    "print(\"Numpy versão:\", np.__version__)\n",
    "print(\"Pandas versão:\", pd.__version__)\n",
    "print(\"Seaborn versão:\", sns.__version__)"
   ]
  },
  {
   "cell_type": "code",
   "execution_count": null,
   "id": "959c13b6-a469-41ee-b262-5b299f15184b",
   "metadata": {},
   "outputs": [],
   "source": [
    "# Load the data\n",
    "df = pd.read_csv('HIGGS_100k.csv', header=None, decimal='.', sep=\",\")"
   ]
  },
  {
   "cell_type": "code",
   "execution_count": null,
   "id": "caa1682c-2dbe-4dba-8ac0-5623fb9b886f",
   "metadata": {},
   "outputs": [],
   "source": [
    "# Define column names\n",
    "column_names = [\n",
    "    'class_label',\n",
    "    'lepton_pT', 'lepton_eta', 'lepton_phi',\n",
    "    'missing_energy_magnitude', 'missing_energy_phi',\n",
    "    'jet_1_pt', 'jet_1_eta', 'jet_1_phi', 'jet_1_b-tag',\n",
    "    'jet_2_pt', 'jet_2_eta', 'jet_2_phi', 'jet_2_b-tag',\n",
    "    'jet_3_pt', 'jet_3_eta', 'jet_3_phi', 'jet_3_b-tag',\n",
    "    'jet_4_pt', 'jet_4_eta', 'jet_4_phi', 'jet_4_b-tag',\n",
    "    'm_jj', 'm_jjj', 'm_lv', 'm_jlv', 'm_bb', 'm_wbb', 'm_wwbb'\n",
    "]\n",
    "\n",
    "# Assign column names\n",
    "df.columns = column_names"
   ]
  },
  {
   "cell_type": "code",
   "execution_count": null,
   "id": "a6a00a88-99e3-4b64-a11b-8c411eed30ab",
   "metadata": {},
   "outputs": [],
   "source": [
    "df"
   ]
  },
  {
   "cell_type": "code",
   "execution_count": null,
   "id": "c649391b-6bba-4e66-a6b4-9b14a3cf8bf4",
   "metadata": {},
   "outputs": [],
   "source": [
    "df.info()"
   ]
  },
  {
   "cell_type": "code",
   "execution_count": null,
   "id": "f8345a06-8fe1-43d5-8edb-38cf1c9bd795",
   "metadata": {},
   "outputs": [],
   "source": []
  },
  {
   "cell_type": "code",
   "execution_count": null,
   "id": "153df66e-ae93-4666-a5a9-9cf87bb48a8b",
   "metadata": {},
   "outputs": [],
   "source": []
  },
  {
   "cell_type": "code",
   "execution_count": null,
   "id": "4f69b0c4-8127-40c4-b2fc-be0100481848",
   "metadata": {},
   "outputs": [],
   "source": []
  },
  {
   "cell_type": "code",
   "execution_count": null,
   "id": "3aa5795e-f518-487d-90b3-b96a8584b3fa",
   "metadata": {},
   "outputs": [],
   "source": [
    "# from sklearn.model_selection import train_test_split\n",
    "# from sklearn.preprocessing import StandardScaler\n",
    "# from sklearn.metrics import classification_report, confusion_matrix, roc_auc_score, roc_curve, auc\n",
    "# import tensorflow as tf\n",
    "# from tensorflow.keras.models import Sequential\n",
    "# from tensorflow.keras.layers import Dense, Dropout\n",
    "# from tensorflow.keras.callbacks import EarlyStopping"
   ]
  },
  {
   "cell_type": "code",
   "execution_count": null,
   "id": "633bbce2-87a8-450a-bb90-7d0ca337108e",
   "metadata": {},
   "outputs": [],
   "source": []
  },
  {
   "cell_type": "code",
   "execution_count": null,
   "id": "6e2dbd93-f1f3-4b6f-b1e8-9f3ba44719ab",
   "metadata": {},
   "outputs": [],
   "source": [
    "# # Separate features and target\n",
    "# X = df.iloc[:, 1:22]  # Use only the 21 low-level features\n",
    "# y = df['class_label']\n",
    "\n",
    "# # Split the data into training and validation sets\n",
    "# X_train, X_val, y_train, y_val = train_test_split(X, y, test_size=0.3, random_state=42)"
   ]
  },
  {
   "cell_type": "code",
   "execution_count": null,
   "id": "abd15894-9b8c-4551-9e35-6aac3d51366a",
   "metadata": {},
   "outputs": [],
   "source": [
    "# # Standardize the features\n",
    "# scaler = StandardScaler()\n",
    "# X_train = scaler.fit_transform(X_train)\n",
    "# X_val = scaler.transform(X_val)"
   ]
  },
  {
   "cell_type": "code",
   "execution_count": null,
   "id": "64c7a64a-ee42-414e-877a-390e4d6c21bd",
   "metadata": {},
   "outputs": [],
   "source": [
    "# # Build the neural network\n",
    "# model = Sequential()\n",
    "# model.add(Dense(64, input_dim=21, activation='relu'))\n",
    "# model.add(Dropout(0.5))\n",
    "# model.add(Dense(32, activation='relu'))\n",
    "# model.add(Dense(1, activation='sigmoid'))"
   ]
  },
  {
   "cell_type": "code",
   "execution_count": null,
   "id": "543a38f5-bf26-4c1b-be00-6efeb14a01cc",
   "metadata": {},
   "outputs": [],
   "source": [
    "# # Compile the model\n",
    "# model.compile(loss='binary_crossentropy', optimizer='adam', metrics=['accuracy'])\n",
    "\n",
    "# # Define early stopping\n",
    "# early_stopping = EarlyStopping(monitor='val_loss', patience=10, restore_best_weights=True)\n",
    "\n",
    "# # Train the model\n",
    "# history = model.fit(X_train, y_train, epochs=100, batch_size=32, validation_data=(X_val, y_val), callbacks=[early_stopping])"
   ]
  },
  {
   "cell_type": "code",
   "execution_count": null,
   "id": "7ae32ff9-5432-4be3-bda0-2051deff9703",
   "metadata": {},
   "outputs": [],
   "source": [
    "# # Evaluate the model\n",
    "# y_pred = (model.predict(X_val) > 0.5).astype(\"int32\")"
   ]
  },
  {
   "cell_type": "code",
   "execution_count": null,
   "id": "e86f971b-8b56-46f7-9397-6299e5c3bb32",
   "metadata": {},
   "outputs": [],
   "source": [
    "# # Evaluate the model\n",
    "# y_pred_prob = model.predict(X_val)\n",
    "# y_pred = (y_pred_prob > 0.5).astype(\"int32\")"
   ]
  },
  {
   "cell_type": "code",
   "execution_count": null,
   "id": "d92cc849-a479-4bd5-9d0a-975fa25a0d21",
   "metadata": {},
   "outputs": [],
   "source": [
    "# print(confusion_matrix(y_val, y_pred))\n",
    "# print(classification_report(y_val, y_pred))\n",
    "# print(f\"ROC-AUC Score: {roc_auc_score(y_val, y_pred)}\")"
   ]
  },
  {
   "cell_type": "code",
   "execution_count": null,
   "id": "77be3f4e-5e71-4645-89cb-dd0fd9512577",
   "metadata": {},
   "outputs": [],
   "source": [
    "# # Plot the ROC curve\n",
    "# fpr, tpr, thresholds = roc_curve(y_val, y_pred_prob)\n",
    "# roc_auc = auc(fpr, tpr)\n",
    "\n",
    "# plt.figure()\n",
    "# plt.plot(fpr, tpr, color='darkorange', lw=2, label=f'ROC curve (area = {roc_auc:.2f})')\n",
    "# plt.plot([0, 1], [0, 1], color='navy', lw=2, linestyle='--')\n",
    "# plt.xlim([0.0, 1.0])\n",
    "# plt.ylim([0.0, 1.05])\n",
    "# plt.xlabel('False Positive Rate')\n",
    "# plt.ylabel('True Positive Rate')\n",
    "# plt.title('Receiver Operating Characteristic (ROC) Curve')\n",
    "# plt.legend(loc=\"lower right\")\n",
    "# plt.show()"
   ]
  },
  {
   "cell_type": "code",
   "execution_count": null,
   "id": "06dfd45e-a4fe-41ef-be3b-45dcce352f52",
   "metadata": {},
   "outputs": [],
   "source": []
  },
  {
   "cell_type": "code",
   "execution_count": null,
   "id": "0f8b4839-5e3d-43c8-bf7d-f334e52c175e",
   "metadata": {},
   "outputs": [],
   "source": []
  },
  {
   "cell_type": "code",
   "execution_count": null,
   "id": "10b27501-d29d-47e2-bfd3-498cfda6e0fa",
   "metadata": {},
   "outputs": [],
   "source": []
  },
  {
   "cell_type": "code",
   "execution_count": null,
   "id": "50ed6245-3a67-4171-a461-de9c64f4518c",
   "metadata": {},
   "outputs": [],
   "source": []
  },
  {
   "cell_type": "code",
   "execution_count": null,
   "id": "858db6ff-ca19-4c70-9997-c5615143a838",
   "metadata": {},
   "outputs": [],
   "source": [
    "## Testing something new"
   ]
  },
  {
   "cell_type": "code",
   "execution_count": null,
   "id": "869f8972-aad1-4a66-8688-6d4bac021f4d",
   "metadata": {},
   "outputs": [],
   "source": [
    "import numpy as np\n",
    "import matplotlib.pyplot as plt\n",
    "import pandas as pd\n",
    "from keras.models import Sequential\n",
    "from keras.layers import Dense\n",
    "from keras.optimizers import Adam\n",
    "from keras.metrics import Precision, Recall, MeanSquaredError, AUC\n",
    "from sklearn.preprocessing import StandardScaler\n",
    "from sklearn.model_selection import train_test_split"
   ]
  },
  {
   "cell_type": "code",
   "execution_count": null,
   "id": "fab410f4-2e9c-4fbc-b901-7b8853b31535",
   "metadata": {},
   "outputs": [],
   "source": [
    "# import numpy as np\n",
    "# import matplotlib.pyplot as plt\n",
    "# import pandas as pd\n",
    "# from sklearn.preprocessing import StandardScaler\n",
    "# from sklearn.model_selection import train_test_split\n",
    "# from sklearn.metrics import classification_report, confusion_matrix, roc_auc_score, roc_curve, auc\n",
    "\n",
    "# try:\n",
    "#     from tensorflow.keras.models import Sequential\n",
    "#     from tensorflow.keras.layers import Dense\n",
    "#     from tensorflow.keras.optimizers import Adam\n",
    "#     from tensorflow.keras.metrics import Precision, Recall, MeanSquaredError, AUC\n",
    "# except ImportError:\n",
    "#     from keras.models import Sequential\n",
    "#     from keras.layers import Dense\n",
    "#     from keras.optimizers import Adam\n",
    "#     from keras.metrics import Precision, Recall, MeanSquaredError, AUC"
   ]
  },
  {
   "cell_type": "code",
   "execution_count": null,
   "id": "47fe3f51-b249-4cbc-aaee-cb4fe446a72e",
   "metadata": {},
   "outputs": [],
   "source": [
    "# Carregar os dados\n",
    "data = pd.read_csv('HIGGS_100k.csv', header=None, names=[\n",
    "    'class', 'lepton pT', 'lepton eta', 'lepton phi', 'missing energy magnitude', \n",
    "    'missing energy phi', 'jet 1 pt', 'jet 1 eta', 'jet 1 phi', 'jet 1 b-tag', \n",
    "    'jet 2 pt', 'jet 2 eta', 'jet 2 phi', 'jet 2 b-tag', 'jet 3 pt', 'jet 3 eta', \n",
    "    'jet 3 phi', 'jet 3 b-tag', 'jet 4 pt', 'jet 4 eta', 'jet 4 phi', 'jet 4 b-tag', \n",
    "    'm jj', 'm jjj', 'm lv', 'm jlv', 'm bb', 'm wbb', 'm wwbb'\n",
    "])"
   ]
  },
  {
   "cell_type": "code",
   "execution_count": null,
   "id": "aca6ee9d-38f6-4962-93da-7c9acf75e445",
   "metadata": {},
   "outputs": [],
   "source": [
    "# Separar as features de baixo nível e o rótulo\n",
    "label = data['class']\n",
    "low_level = data.iloc[:, 1:22]"
   ]
  },
  {
   "cell_type": "code",
   "execution_count": null,
   "id": "e65bec28-71da-4a01-9f32-814f1ab3ae21",
   "metadata": {},
   "outputs": [],
   "source": [
    "# Normalizar os dados\n",
    "scaler = StandardScaler()\n",
    "low_level_scaled = scaler.fit_transform(low_level)"
   ]
  },
  {
   "cell_type": "code",
   "execution_count": null,
   "id": "4702fd1f-11f2-4b78-9974-624cffa716c4",
   "metadata": {},
   "outputs": [],
   "source": [
    "# Dividir os dados em treino e teste\n",
    "X_train, X_test, y_train, y_test = train_test_split(low_level_scaled, label, random_state=42, test_size=0.25)"
   ]
  },
  {
   "cell_type": "code",
   "execution_count": null,
   "id": "4fd47104-1ba5-433e-9087-4a36686d1fc2",
   "metadata": {},
   "outputs": [],
   "source": [
    "# Função para plotar o histórico de treinamento\n",
    "def plot_epoch(history, metric):\n",
    "    plt.figure(figsize=(10, 6))\n",
    "    plt.plot(history.history[f'val_{metric}'], color='blue', label=f\"Validação {metric}\")\n",
    "    plt.plot(history.history[metric], color='red', label=f\"Treinamento {metric}\")\n",
    "    plt.title(f\"Histórico de treinamento: {metric.capitalize()}\")\n",
    "    plt.xlabel(\"Épocas\")\n",
    "    plt.ylabel(metric.capitalize())\n",
    "    plt.legend()\n",
    "    plt.grid(True)\n",
    "    plt.show()"
   ]
  },
  {
   "cell_type": "code",
   "execution_count": null,
   "id": "a10b991e-8dbc-4b41-b97a-f77e8f41afc8",
   "metadata": {},
   "outputs": [],
   "source": [
    "# Definição do modelo de rede neural\n",
    "model = Sequential([\n",
    "    Dense(64, activation='relu', input_shape=(21,)),\n",
    "    Dense(32, activation='relu'),\n",
    "    Dense(16, activation='relu'),\n",
    "    Dense(1, activation='sigmoid')\n",
    "])\n",
    "\n",
    "\n",
    "# Compilar o modelo\n",
    "optimizer = Adam(learning_rate=0.0001)\n",
    "model.compile(optimizer=optimizer, loss='binary_crossentropy', \n",
    "              metrics=['accuracy', Precision(name='precision'), Recall(name='recall'), MeanSquaredError(name='mean_squared_error'), AUC(name='auc')])\n"
   ]
  },
  {
   "cell_type": "code",
   "execution_count": null,
   "id": "06498e4c-141f-4729-bd78-41f6d5b49f2f",
   "metadata": {},
   "outputs": [],
   "source": [
    "# Treinar o modelo\n",
    "epochs = 50\n",
    "batch_size = 128\n",
    "\n",
    "history = model.fit(X_train, y_train, epochs=epochs, validation_data=(X_test, y_test), batch_size=batch_size)\n"
   ]
  },
  {
   "cell_type": "code",
   "execution_count": null,
   "id": "166570ad-8897-4965-8a66-b9c5d9f03209",
   "metadata": {},
   "outputs": [],
   "source": [
    "# Plotar o histórico de treinamento\n",
    "plot_epoch(history, 'accuracy')\n",
    "plot_epoch(history, 'precision')\n",
    "plot_epoch(history, 'recall')\n",
    "plot_epoch(history, 'mean_squared_error')\n",
    "plot_epoch(history, 'auc')\n",
    "\n",
    "# Previsões\n",
    "predictions = model.predict(low_level_scaled)\n",
    "\n",
    "# Aplicar limiar para classificar como sinal ou ruído\n",
    "threshold = 0.5\n",
    "predictions = (predictions > threshold).astype(int)\n",
    "\n",
    "# Adicionar previsões ao dataframe original\n",
    "data['pred'] = predictions\n",
    "\n",
    "# Contar a porcentagem de cada classe nas previsões\n",
    "print(data['pred'].value_counts(normalize=True) * 100)\n",
    "\n",
    "# Separar os dados em sinal e ruído com base nas previsões e rótulos originais\n",
    "dados_sinal = data[data['class'] == 1]\n",
    "dados_ruido = data[data['class'] == 0]\n",
    "sinal_pred = data[data['pred'] == 1]\n",
    "ruido_pred = data[data['pred'] == 0]\n",
    "\n",
    "# Plotar histogramas\n",
    "plt.figure(figsize=(14, 8))\n",
    "plt.hist(dados_sinal['m wwbb'], bins=100, alpha=0.6, label='Sinal (original)', color='blue', edgecolor='black')\n",
    "plt.hist(dados_ruido['m wwbb'], bins=100, alpha=0.6, label='Ruído (original)', color='red', edgecolor='black')\n",
    "plt.hist(sinal_pred['m wwbb'], bins=100, alpha=0.6, label='Sinal (rede neural)', color='green', edgecolor='black')\n",
    "plt.hist(ruido_pred['m wwbb'], bins=100, alpha=0.6, label='Ruído (rede neural)', color='orange', edgecolor='black')\n",
    "\n",
    "plt.legend()\n",
    "plt.xlabel('m wwbb')\n",
    "plt.ylabel('Frequência normalizada')\n",
    "plt.title('Distribuição de m wwbb para Sinal e Ruído')\n",
    "plt.grid(True)\n",
    "plt.show()\n"
   ]
  },
  {
   "cell_type": "code",
   "execution_count": null,
   "id": "c4ec1b98-d2d8-4079-9eb1-3a33ac60c7a5",
   "metadata": {},
   "outputs": [],
   "source": []
  },
  {
   "cell_type": "code",
   "execution_count": null,
   "id": "e612f6ed-a0a3-49d8-98ed-cd48f47cbe68",
   "metadata": {},
   "outputs": [],
   "source": []
  },
  {
   "cell_type": "code",
   "execution_count": null,
   "id": "ffd80376-9da5-4975-ad85-bdfbb2b437f2",
   "metadata": {},
   "outputs": [],
   "source": []
  },
  {
   "cell_type": "code",
   "execution_count": null,
   "id": "30403b3a-4f8a-4cab-8c99-5ccccdfa2aa2",
   "metadata": {},
   "outputs": [],
   "source": []
  }
 ],
 "metadata": {
  "kernelspec": {
   "display_name": "Python 3 (ipykernel)",
   "language": "python",
   "name": "python3"
  },
  "language_info": {
   "codemirror_mode": {
    "name": "ipython",
    "version": 3
   },
   "file_extension": ".py",
   "mimetype": "text/x-python",
   "name": "python",
   "nbconvert_exporter": "python",
   "pygments_lexer": "ipython3",
   "version": "3.9.7"
  }
 },
 "nbformat": 4,
 "nbformat_minor": 5
}
